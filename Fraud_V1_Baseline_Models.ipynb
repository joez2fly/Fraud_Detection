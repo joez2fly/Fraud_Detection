{
  "cells": [
    {
      "cell_type": "markdown",
      "metadata": {
        "ExecuteTime": {
          "end_time": "2022-11-22T01:35:36.709390Z",
          "start_time": "2022-11-22T01:35:36.706785Z"
        },
        "id": "28pUTXRoOCph"
      },
      "source": [
        "# Import Libraries"
      ]
    },
    {
      "cell_type": "code",
      "execution_count": null,
      "metadata": {
        "ExecuteTime": {
          "end_time": "2022-12-09T15:26:15.448990Z",
          "start_time": "2022-12-09T15:26:15.442842Z"
        },
        "id": "W6H7P7fqOCpn"
      },
      "outputs": [],
      "source": [
        "import pandas as pd\n",
        "import numpy as np\n",
        "import scipy as sp\n",
        "\n",
        "import time\n",
        "\n",
        "from sklearn.model_selection import train_test_split\n",
        "from sklearn.model_selection import GridSearchCV\n",
        "from sklearn.model_selection import StratifiedKFold\n",
        "from sklearn.preprocessing import LabelEncoder\n",
        "from sklearn.preprocessing import OneHotEncoder\n",
        "\n",
        "\n",
        "import matplotlib.pyplot as plt\n",
        "import seaborn as sns\n",
        "sns.set()\n",
        "%matplotlib inline\n",
        "\n",
        "import warnings\n",
        "warnings.simplefilter('ignore')\n",
        "\n",
        "from sklearn.metrics import roc_auc_score\n",
        "\n",
        "#from imblearn.over_sampling import SMOTE\n",
        "import lightgbm\n",
        "from lightgbm import LGBMClassifier\n",
        "#import catboost\n",
        "#from catboost import CatBoostClassifier\n",
        "\n",
        "from sklearn.linear_model import LogisticRegression\n",
        "from sklearn.tree import DecisionTreeClassifier\n",
        "from sklearn.neighbors import KNeighborsClassifier\n",
        "from sklearn.naive_bayes import GaussianNB\n",
        "from sklearn.ensemble import RandomForestClassifier\n",
        "from sklearn.model_selection import GridSearchCV"
      ]
    },
    {
      "cell_type": "markdown",
      "metadata": {
        "id": "9U5O4bhtOCpq"
      },
      "source": [
        "# Data Size Shrinkage Helper Function"
      ]
    },
    {
      "cell_type": "code",
      "execution_count": null,
      "metadata": {
        "ExecuteTime": {
          "end_time": "2022-12-09T15:26:16.150631Z",
          "start_time": "2022-12-09T15:26:16.145213Z"
        },
        "id": "2E8MrsqBOCpq"
      },
      "outputs": [],
      "source": [
        "def reduce_mem_usage(df, verbose=True):\n",
        "    numerics = ['int16', 'int32', 'int64', 'float16', 'float32', 'float64']\n",
        "    start_mem = df.memory_usage().sum() / 1024**2\n",
        "    for col in df.columns:\n",
        "        col_type = df[col].dtypes\n",
        "        if col_type in numerics:\n",
        "            c_min = df[col].min()\n",
        "            c_max = df[col].max()\n",
        "            if str(col_type)[:3] == 'int':\n",
        "                if c_min > np.iinfo(np.int8).min and c_max < np.iinfo(np.int8).max:\n",
        "                    df[col] = df[col].astype(np.int8)\n",
        "                elif c_min > np.iinfo(np.int16).min and c_max < np.iinfo(np.int16).max:\n",
        "                    df[col] = df[col].astype(np.int16)\n",
        "                elif c_min > np.iinfo(np.int32).min and c_max < np.iinfo(np.int32).max:\n",
        "                    df[col] = df[col].astype(np.int32)\n",
        "                elif c_min > np.iinfo(np.int64).min and c_max < np.iinfo(np.int64).max:\n",
        "                    df[col] = df[col].astype(np.int64)\n",
        "            else:\n",
        "                if c_min > np.finfo(np.float16).min and c_max < np.finfo(np.float16).max:\n",
        "                    df[col] = df[col].astype(np.float16)\n",
        "                elif c_min > np.finfo(np.float32).min and c_max < np.finfo(np.float32).max:\n",
        "                    df[col] = df[col].astype(np.float32)\n",
        "                else:\n",
        "                    df[col] = df[col].astype(np.float64)\n",
        "    end_mem = df.memory_usage().sum() / 1024**2\n",
        "    if verbose: print('Mem. usage decreased to {:5.2f} Mb ({:.1f}% reduction)'.format(end_mem, 100 * (start_mem - end_mem) / start_mem))\n",
        "    return df"
      ]
    },
    {
      "cell_type": "markdown",
      "metadata": {
        "id": "bYf2W5h2OCpr"
      },
      "source": [
        "# Read Data"
      ]
    },
    {
      "cell_type": "code",
      "execution_count": null,
      "metadata": {
        "ExecuteTime": {
          "end_time": "2022-12-09T15:26:23.488757Z",
          "start_time": "2022-12-09T15:26:16.506510Z"
        },
        "id": "C2Ncq7I9OCps",
        "outputId": "ba7522c3-fd6b-4a03-d6e1-2fce9420ff99"
      },
      "outputs": [
        {
          "name": "stdout",
          "output_type": "stream",
          "text": [
            "invoice_test has 1,939,730 rows and 16 cols \n",
            "\n",
            "invoice_train has 4,476,749 rows and 16 cols \n",
            "\n"
          ]
        }
      ],
      "source": [
        "invoice_test = pd.read_csv('./data/invoice_test.csv',low_memory=False)\n",
        "print(f'invoice_test has {invoice_test.shape[0]:,} rows and {invoice_test.shape[1]} cols','\\n')\n",
        "\n",
        "invoice_train = pd.read_csv('./data/invoice_train.csv',low_memory=False)\n",
        "print(f'invoice_train has {invoice_train.shape[0]:,} rows and {invoice_train.shape[1]} cols','\\n')\n"
      ]
    },
    {
      "cell_type": "code",
      "execution_count": null,
      "metadata": {
        "ExecuteTime": {
          "end_time": "2022-12-09T16:18:17.477424Z",
          "start_time": "2022-12-09T16:18:17.355554Z"
        },
        "id": "luBgUw2BOCpt",
        "outputId": "12668c5a-a9d4-461c-de57-a7e510889cb6"
      },
      "outputs": [
        {
          "name": "stdout",
          "output_type": "stream",
          "text": [
            "client_test has 58,069 rows and 5 cols \n",
            "\n",
            "client_train has 135,493 rows and 6 cols \n",
            "\n"
          ]
        }
      ],
      "source": [
        "client_test = pd.read_csv('./data/client_test.csv',low_memory=False)\n",
        "print(f'client_test has {client_test.shape[0]:,} rows and {client_test.shape[1]} cols','\\n')\n",
        "\n",
        "client_train = pd.read_csv('./data/client_train.csv',low_memory=False)\n",
        "print(f'client_train has {client_train.shape[0]:,} rows and {client_train.shape[1]} cols','\\n')"
      ]
    },
    {
      "cell_type": "code",
      "execution_count": null,
      "metadata": {
        "ExecuteTime": {
          "end_time": "2022-12-09T15:26:23.660796Z",
          "start_time": "2022-12-09T15:26:23.629422Z"
        },
        "id": "5kHsptYIOCpt"
      },
      "outputs": [],
      "source": [
        "sub=pd.read_csv('./SampleSubmission.csv')"
      ]
    },
    {
      "cell_type": "markdown",
      "metadata": {
        "id": "NJgE1loDOCpu"
      },
      "source": [
        "## EDA"
      ]
    },
    {
      "cell_type": "code",
      "execution_count": null,
      "metadata": {
        "ExecuteTime": {
          "end_time": "2022-12-09T15:26:25.690323Z",
          "start_time": "2022-12-09T15:26:23.662319Z"
        },
        "id": "QCj8LioEOCpu",
        "outputId": "11c52b85-1661-412e-d3c1-0c1039d3fabe"
      },
      "outputs": [
        {
          "name": "stderr",
          "output_type": "stream",
          "text": [
            "posx and posy should be finite values\n",
            "posx and posy should be finite values\n"
          ]
        },
        {
          "data": {
            "image/png": "[encoded data removed]",
            "text/plain": [
              "<Figure size 954.975x720 with 1 Axes>"
            ]
          },
          "metadata": {
            "needs_background": "light"
          },
          "output_type": "display_data"
        },
        {
          "data": {
            "image/png": "[encoded data removed]",
            "text/plain": [
              "<Figure size 954.975x720 with 1 Axes>"
            ]
          },
          "metadata": {
            "needs_background": "light"
          },
          "output_type": "display_data"
        },
        {
          "name": "stderr",
          "output_type": "stream",
          "text": [
            "posx and posy should be finite values\n",
            "posx and posy should be finite values\n"
          ]
        },
        {
          "data": {
            "image/png": "[encoded data removed]",
            "text/plain": [
              "<Figure size 1854.97x1440 with 1 Axes>"
            ]
          },
          "metadata": {
            "needs_background": "light"
          },
          "output_type": "display_data"
        }
      ],
      "source": [
        "all_x = ['disrict','client_catg','region']\n",
        "y = 'target'\n",
        "\n",
        "for x in all_x:\n",
        "    df1 = client_train.groupby(x)[y].value_counts(normalize=True)\n",
        "    df1 = df1.mul(100)\n",
        "    df1 = df1.rename('percent').reset_index()\n",
        "\n",
        "    if x == 'region':\n",
        "        height = 20\n",
        "    else:\n",
        "        height = 10\n",
        "    g = sns.catplot(x=x,y='percent',hue=y,kind='bar',data=df1,height = height, aspect = 1.25)\n",
        "    g.ax.set_title(f'Target Distribution on {x}',fontsize=20)\n",
        "    g.ax.set_ylim(0,100)\n",
        "\n",
        "    for p in g.ax.patches:\n",
        "        txt = str(p.get_height().round(2)) + '%'\n",
        "        txt_x = p.get_x()\n",
        "        txt_y = p.get_height()\n",
        "        g.ax.text(txt_x,txt_y,txt, size=13)\n",
        "\n",
        "    figure = g.fig\n",
        "    figure.savefig(f'./chart/Target Distribution on {x}.jpg',format='jpeg',\n",
        "                   dpi=100,\n",
        "                   bbox_inches='tight')"
      ]
    },
    {
      "cell_type": "code",
      "execution_count": null,
      "metadata": {
        "ExecuteTime": {
          "end_time": "2022-12-09T15:26:27.012339Z",
          "start_time": "2022-12-09T15:26:25.691628Z"
        },
        "id": "u6bqNDMuOCpv",
        "outputId": "c948fbb7-182e-4c76-c36e-13f919dc8300"
      },
      "outputs": [
        {
          "data": {
            "image/png": "[encoded data removed]",
            "text/plain": [
              "<Figure size 720x576 with 1 Axes>"
            ]
          },
          "metadata": {
            "needs_background": "light"
          },
          "output_type": "display_data"
        },
        {
          "data": {
            "image/png": "[encoded data removed]",
            "text/plain": [
              "<Figure size 720x576 with 1 Axes>"
            ]
          },
          "metadata": {
            "needs_background": "light"
          },
          "output_type": "display_data"
        },
        {
          "data": {
            "image/png": "[encoded data removed]",
            "text/plain": [
              "<Figure size 720x576 with 1 Axes>"
            ]
          },
          "metadata": {
            "needs_background": "light"
          },
          "output_type": "display_data"
        },
        {
          "data": {
            "image/png": "[encoded data removed]",
            "text/plain": [
              "<Figure size 720x576 with 1 Axes>"
            ]
          },
          "metadata": {
            "needs_background": "light"
          },
          "output_type": "display_data"
        }
      ],
      "source": [
        "df_merge = client_train.merge(invoice_train.groupby(['client_id']).agg({'consommation_level_1':np.mean,\n",
        "                                          'consommation_level_2':np.mean,\n",
        "                                          'consommation_level_3':np.mean,\n",
        "                                          'consommation_level_4':np.mean}).reset_index(),\n",
        "                         how='inner',on='client_id')\n",
        "consommations = ['consommation_level_1','consommation_level_2','consommation_level_3','consommation_level_4']\n",
        "\n",
        "for consommation in consommations:\n",
        "    df1 = df_merge.groupby(['target'])[consommation].mean().rename(f'Avg_{consommation}').reset_index()\n",
        "\n",
        "    g = sns.catplot(x='target',y=f'Avg_{consommation}',kind='bar',data=df1,height = 8, aspect = 1.25)\n",
        "    g.ax.set_title(f'Average {consommation} between Target',fontsize=20)\n",
        "\n",
        "    for p in g.ax.patches:\n",
        "        txt = str(p.get_height().round(2))\n",
        "        txt_x = p.get_x()\n",
        "        txt_y = p.get_height()\n",
        "        g.ax.text(txt_x,txt_y,txt, size=13)\n",
        "\n",
        "    figure = g.fig\n",
        "    figure.savefig(f'./chart/Average {consommation} between Target.jpg',format='jpeg',\n",
        "                   dpi=100,\n",
        "                   bbox_inches='tight')\n"
      ]
    },
    {
      "cell_type": "markdown",
      "metadata": {
        "id": "2JGxx9dROCpw"
      },
      "source": [
        "## Data Cleansing"
      ]
    },
    {
      "cell_type": "markdown",
      "metadata": {
        "ExecuteTime": {
          "end_time": "2022-12-07T15:50:48.228386Z",
          "start_time": "2022-12-07T15:50:48.219037Z"
        },
        "id": "fDFTyn9MOCpx"
      },
      "source": [
        "### Bad counter_statue and remarque"
      ]
    },
    {
      "cell_type": "code",
      "execution_count": null,
      "metadata": {
        "ExecuteTime": {
          "end_time": "2022-12-09T15:26:27.015732Z",
          "start_time": "2022-12-09T15:26:27.013990Z"
        },
        "id": "PMvgxOKROCpx"
      },
      "outputs": [],
      "source": [
        "cate_cols = ['counter_statue','reading_remarque']"
      ]
    },
    {
      "cell_type": "code",
      "execution_count": null,
      "metadata": {
        "ExecuteTime": {
          "end_time": "2022-12-09T15:26:28.473195Z",
          "start_time": "2022-12-09T15:26:27.016856Z"
        },
        "id": "vH7iKf0YOCpx",
        "outputId": "636ae85e-1643-46d7-a1a1-49c9fe495215"
      },
      "outputs": [
        {
          "data": {
            "image/png": "[encoded data removed]",
            "text/plain": [
              "<Figure size 720x576 with 1 Axes>"
            ]
          },
          "metadata": {
            "needs_background": "light"
          },
          "output_type": "display_data"
        },
        {
          "data": {
            "image/png": "[encoded data removed]",
            "text/plain": [
              "<Figure size 720x576 with 1 Axes>"
            ]
          },
          "metadata": {
            "needs_background": "light"
          },
          "output_type": "display_data"
        },
        {
          "data": {
            "image/png": "[encoded data removed]",
            "text/plain": [
              "<Figure size 720x576 with 1 Axes>"
            ]
          },
          "metadata": {
            "needs_background": "light"
          },
          "output_type": "display_data"
        },
        {
          "data": {
            "image/png": "[encoded data removed]",
            "text/plain": [
              "<Figure size 720x576 with 1 Axes>"
            ]
          },
          "metadata": {
            "needs_background": "light"
          },
          "output_type": "display_data"
        }
      ],
      "source": [
        "for cate_col in cate_cols:\n",
        "    df1 = invoice_train[cate_col].value_counts().rename_axis(cate_col).to_frame('counts').reset_index()\n",
        "    df2 = invoice_test[cate_col].value_counts().rename_axis(cate_col).to_frame('counts').reset_index()\n",
        "\n",
        "    g1 = sns.catplot(x=cate_col,y='counts',kind='bar',data=df1,height = 8, aspect = 1.25)\n",
        "    g1.ax.set_title(f'{cate_col} Distribution on Invoice Train Data',fontsize=20)\n",
        "    for p in g1.ax.patches:\n",
        "        txt = f'{p.get_height() :,.0f}'\n",
        "        txt_x = p.get_x()\n",
        "        txt_y = p.get_height()\n",
        "        g1.ax.text(txt_x,txt_y,txt, size=13)\n",
        "\n",
        "    figure1 = g1.fig\n",
        "    figure1.savefig(f'./chart/{cate_col} Distribution on Invoice Train Data.jpg',format='jpeg',\n",
        "                   dpi=100,\n",
        "                   bbox_inches='tight')\n",
        "\n",
        "\n",
        "    g2 = sns.catplot(x=cate_col,y='counts',kind='bar',data=df2,height = 8, aspect = 1.25)\n",
        "    g2.ax.set_title(f'{cate_col} Distribution on Invoice Test Data',fontsize=20)\n",
        "    for p in g2.ax.patches:\n",
        "        txt = f'{p.get_height() :,.0f}'\n",
        "        txt_x = p.get_x()\n",
        "        txt_y = p.get_height()\n",
        "        g2.ax.text(txt_x,txt_y,txt, size=13)\n",
        "\n",
        "    figure2 = g2.fig\n",
        "    figure2.savefig(f'./chart/{cate_col} Distribution on Invoice Test Data.jpg',format='jpeg',\n",
        "                   dpi=100,\n",
        "                   bbox_inches='tight')"
      ]
    },
    {
      "cell_type": "code",
      "execution_count": null,
      "metadata": {
        "id": "peBbiZPfOCpx"
      },
      "outputs": [],
      "source": []
    },
    {
      "cell_type": "markdown",
      "metadata": {
        "id": "hDEajomGOCpy"
      },
      "source": [
        "### Wrong Month Number"
      ]
    },
    {
      "cell_type": "code",
      "execution_count": null,
      "metadata": {
        "ExecuteTime": {
          "end_time": "2022-12-09T15:26:28.514288Z",
          "start_time": "2022-12-09T15:26:28.476264Z"
        },
        "id": "h2jqki90OCpy"
      },
      "outputs": [],
      "source": [
        "invoice_train_month = invoice_train['months_number'].value_counts().rename_axis('month_number').to_frame('counts').reset_index()\n",
        "invoice_test_month = invoice_test['months_number'].value_counts().rename_axis('month_number').to_frame('counts').reset_index()\n"
      ]
    },
    {
      "cell_type": "code",
      "execution_count": null,
      "metadata": {
        "ExecuteTime": {
          "end_time": "2022-12-09T15:26:28.521694Z",
          "start_time": "2022-12-09T15:26:28.516311Z"
        },
        "id": "5RVLPYMkOCpy",
        "outputId": "5fb5d88f-7796-4c43-cac0-be6574e630df"
      },
      "outputs": [
        {
          "data": {
            "text/html": [
              "<div>\n",
              "<style scoped>\n",
              "    .dataframe tbody tr th:only-of-type {\n",
              "        vertical-align: middle;\n",
              "    }\n",
              "\n",
              "    .dataframe tbody tr th {\n",
              "        vertical-align: top;\n",
              "    }\n",
              "\n",
              "    .dataframe thead th {\n",
              "        text-align: right;\n",
              "    }\n",
              "</style>\n",
              "<table border=\"1\" class=\"dataframe\">\n",
              "  <thead>\n",
              "    <tr style=\"text-align: right;\">\n",
              "      <th></th>\n",
              "      <th>month_number</th>\n",
              "      <th>counts</th>\n",
              "    </tr>\n",
              "  </thead>\n",
              "  <tbody>\n",
              "    <tr>\n",
              "      <th>1365</th>\n",
              "      <td>72210</td>\n",
              "      <td>1</td>\n",
              "    </tr>\n",
              "    <tr>\n",
              "      <th>1366</th>\n",
              "      <td>334482</td>\n",
              "      <td>1</td>\n",
              "    </tr>\n",
              "    <tr>\n",
              "      <th>1367</th>\n",
              "      <td>117260</td>\n",
              "      <td>1</td>\n",
              "    </tr>\n",
              "    <tr>\n",
              "      <th>1368</th>\n",
              "      <td>47650</td>\n",
              "      <td>1</td>\n",
              "    </tr>\n",
              "    <tr>\n",
              "      <th>1369</th>\n",
              "      <td>30642</td>\n",
              "      <td>1</td>\n",
              "    </tr>\n",
              "  </tbody>\n",
              "</table>\n",
              "</div>"
            ],
            "text/plain": [
              "      month_number  counts\n",
              "1365         72210       1\n",
              "1366        334482       1\n",
              "1367        117260       1\n",
              "1368         47650       1\n",
              "1369         30642       1"
            ]
          },
          "execution_count": 13,
          "metadata": {},
          "output_type": "execute_result"
        }
      ],
      "source": [
        "invoice_train_month.tail()"
      ]
    },
    {
      "cell_type": "code",
      "execution_count": null,
      "metadata": {
        "ExecuteTime": {
          "end_time": "2022-12-09T15:26:28.527887Z",
          "start_time": "2022-12-09T15:26:28.522861Z"
        },
        "id": "-BhNTkizOCpy",
        "outputId": "0ea61db0-cd53-470b-ed4f-f14a459d9361"
      },
      "outputs": [
        {
          "data": {
            "text/html": [
              "<div>\n",
              "<style scoped>\n",
              "    .dataframe tbody tr th:only-of-type {\n",
              "        vertical-align: middle;\n",
              "    }\n",
              "\n",
              "    .dataframe tbody tr th {\n",
              "        vertical-align: top;\n",
              "    }\n",
              "\n",
              "    .dataframe thead th {\n",
              "        text-align: right;\n",
              "    }\n",
              "</style>\n",
              "<table border=\"1\" class=\"dataframe\">\n",
              "  <thead>\n",
              "    <tr style=\"text-align: right;\">\n",
              "      <th></th>\n",
              "      <th>month_number</th>\n",
              "      <th>counts</th>\n",
              "    </tr>\n",
              "  </thead>\n",
              "  <tbody>\n",
              "    <tr>\n",
              "      <th>909</th>\n",
              "      <td>66140</td>\n",
              "      <td>1</td>\n",
              "    </tr>\n",
              "    <tr>\n",
              "      <th>910</th>\n",
              "      <td>392900</td>\n",
              "      <td>1</td>\n",
              "    </tr>\n",
              "    <tr>\n",
              "      <th>911</th>\n",
              "      <td>349904</td>\n",
              "      <td>1</td>\n",
              "    </tr>\n",
              "    <tr>\n",
              "      <th>912</th>\n",
              "      <td>10879</td>\n",
              "      <td>1</td>\n",
              "    </tr>\n",
              "    <tr>\n",
              "      <th>913</th>\n",
              "      <td>28103</td>\n",
              "      <td>1</td>\n",
              "    </tr>\n",
              "  </tbody>\n",
              "</table>\n",
              "</div>"
            ],
            "text/plain": [
              "     month_number  counts\n",
              "909         66140       1\n",
              "910        392900       1\n",
              "911        349904       1\n",
              "912         10879       1\n",
              "913         28103       1"
            ]
          },
          "execution_count": 14,
          "metadata": {},
          "output_type": "execute_result"
        }
      ],
      "source": [
        "invoice_test_month.tail()"
      ]
    },
    {
      "cell_type": "code",
      "execution_count": null,
      "metadata": {
        "ExecuteTime": {
          "end_time": "2022-12-09T15:26:28.530434Z",
          "start_time": "2022-12-09T15:26:28.529071Z"
        },
        "id": "0XWezKYnOCpy"
      },
      "outputs": [],
      "source": [
        "#invoice_train[invoice_train['months_number']>100]['client_id'].value_counts()"
      ]
    },
    {
      "cell_type": "code",
      "execution_count": null,
      "metadata": {
        "ExecuteTime": {
          "end_time": "2022-12-09T15:26:28.685857Z",
          "start_time": "2022-12-09T15:26:28.531547Z"
        },
        "id": "YZAF59XZOCpy"
      },
      "outputs": [],
      "source": [
        "month_error_sample = invoice_train[invoice_train['client_id']=='train_Client_100551'].sort_values(by=['counter_type','invoice_date'])"
      ]
    },
    {
      "cell_type": "code",
      "execution_count": null,
      "metadata": {
        "ExecuteTime": {
          "end_time": "2022-12-09T15:26:28.695054Z",
          "start_time": "2022-12-09T15:26:28.687100Z"
        },
        "id": "Y02lic1eOCpz",
        "outputId": "cba66bed-72e1-4285-b880-f32a7d5a427b"
      },
      "outputs": [
        {
          "data": {
            "text/html": [
              "<div>\n",
              "<style scoped>\n",
              "    .dataframe tbody tr th:only-of-type {\n",
              "        vertical-align: middle;\n",
              "    }\n",
              "\n",
              "    .dataframe tbody tr th {\n",
              "        vertical-align: top;\n",
              "    }\n",
              "\n",
              "    .dataframe thead th {\n",
              "        text-align: right;\n",
              "    }\n",
              "</style>\n",
              "<table border=\"1\" class=\"dataframe\">\n",
              "  <thead>\n",
              "    <tr style=\"text-align: right;\">\n",
              "      <th></th>\n",
              "      <th>client_id</th>\n",
              "      <th>invoice_date</th>\n",
              "      <th>counter_number</th>\n",
              "      <th>old_index</th>\n",
              "      <th>new_index</th>\n",
              "      <th>months_number</th>\n",
              "      <th>counter_type</th>\n",
              "    </tr>\n",
              "  </thead>\n",
              "  <tbody>\n",
              "    <tr>\n",
              "      <th>20214</th>\n",
              "      <td>train_Client_100551</td>\n",
              "      <td>2009-03-09</td>\n",
              "      <td>1099471</td>\n",
              "      <td>0</td>\n",
              "      <td>495</td>\n",
              "      <td>3311</td>\n",
              "      <td>ELEC</td>\n",
              "    </tr>\n",
              "    <tr>\n",
              "      <th>20219</th>\n",
              "      <td>train_Client_100551</td>\n",
              "      <td>2009-11-05</td>\n",
              "      <td>1099471</td>\n",
              "      <td>0</td>\n",
              "      <td>342</td>\n",
              "      <td>495</td>\n",
              "      <td>ELEC</td>\n",
              "    </tr>\n",
              "    <tr>\n",
              "      <th>20212</th>\n",
              "      <td>train_Client_100551</td>\n",
              "      <td>2010-06-05</td>\n",
              "      <td>1099471</td>\n",
              "      <td>0</td>\n",
              "      <td>9971</td>\n",
              "      <td>17815</td>\n",
              "      <td>ELEC</td>\n",
              "    </tr>\n",
              "    <tr>\n",
              "      <th>20213</th>\n",
              "      <td>train_Client_100551</td>\n",
              "      <td>2010-08-01</td>\n",
              "      <td>1099471</td>\n",
              "      <td>0</td>\n",
              "      <td>3311</td>\n",
              "      <td>9971</td>\n",
              "      <td>ELEC</td>\n",
              "    </tr>\n",
              "    <tr>\n",
              "      <th>20211</th>\n",
              "      <td>train_Client_100551</td>\n",
              "      <td>2010-08-30</td>\n",
              "      <td>1099471</td>\n",
              "      <td>0</td>\n",
              "      <td>17815</td>\n",
              "      <td>25778</td>\n",
              "      <td>ELEC</td>\n",
              "    </tr>\n",
              "    <tr>\n",
              "      <th>20215</th>\n",
              "      <td>train_Client_100551</td>\n",
              "      <td>2011-03-14</td>\n",
              "      <td>1099471</td>\n",
              "      <td>0</td>\n",
              "      <td>25778</td>\n",
              "      <td>25778</td>\n",
              "      <td>ELEC</td>\n",
              "    </tr>\n",
              "    <tr>\n",
              "      <th>20220</th>\n",
              "      <td>train_Client_100551</td>\n",
              "      <td>2011-08-09</td>\n",
              "      <td>545768</td>\n",
              "      <td>0</td>\n",
              "      <td>6828</td>\n",
              "      <td>8</td>\n",
              "      <td>ELEC</td>\n",
              "    </tr>\n",
              "    <tr>\n",
              "      <th>20217</th>\n",
              "      <td>train_Client_100551</td>\n",
              "      <td>2012-09-01</td>\n",
              "      <td>545768</td>\n",
              "      <td>6828</td>\n",
              "      <td>17146</td>\n",
              "      <td>4</td>\n",
              "      <td>ELEC</td>\n",
              "    </tr>\n",
              "    <tr>\n",
              "      <th>20218</th>\n",
              "      <td>train_Client_100551</td>\n",
              "      <td>2014-06-05</td>\n",
              "      <td>545768</td>\n",
              "      <td>20841</td>\n",
              "      <td>20841</td>\n",
              "      <td>6</td>\n",
              "      <td>ELEC</td>\n",
              "    </tr>\n",
              "    <tr>\n",
              "      <th>20216</th>\n",
              "      <td>train_Client_100551</td>\n",
              "      <td>2017-04-27</td>\n",
              "      <td>545768</td>\n",
              "      <td>20842</td>\n",
              "      <td>20842</td>\n",
              "      <td>30</td>\n",
              "      <td>ELEC</td>\n",
              "    </tr>\n",
              "  </tbody>\n",
              "</table>\n",
              "</div>"
            ],
            "text/plain": [
              "                 client_id invoice_date  counter_number  old_index  new_index  \\\n",
              "20214  train_Client_100551   2009-03-09         1099471          0        495   \n",
              "20219  train_Client_100551   2009-11-05         1099471          0        342   \n",
              "20212  train_Client_100551   2010-06-05         1099471          0       9971   \n",
              "20213  train_Client_100551   2010-08-01         1099471          0       3311   \n",
              "20211  train_Client_100551   2010-08-30         1099471          0      17815   \n",
              "20215  train_Client_100551   2011-03-14         1099471          0      25778   \n",
              "20220  train_Client_100551   2011-08-09          545768          0       6828   \n",
              "20217  train_Client_100551   2012-09-01          545768       6828      17146   \n",
              "20218  train_Client_100551   2014-06-05          545768      20841      20841   \n",
              "20216  train_Client_100551   2017-04-27          545768      20842      20842   \n",
              "\n",
              "       months_number counter_type  \n",
              "20214           3311         ELEC  \n",
              "20219            495         ELEC  \n",
              "20212          17815         ELEC  \n",
              "20213           9971         ELEC  \n",
              "20211          25778         ELEC  \n",
              "20215          25778         ELEC  \n",
              "20220              8         ELEC  \n",
              "20217              4         ELEC  \n",
              "20218              6         ELEC  \n",
              "20216             30         ELEC  "
            ]
          },
          "execution_count": 17,
          "metadata": {},
          "output_type": "execute_result"
        }
      ],
      "source": [
        "month_error_sample[['client_id', 'invoice_date', 'counter_number','old_index',\n",
        "       'new_index', 'months_number', 'counter_type']]"
      ]
    },
    {
      "cell_type": "code",
      "execution_count": null,
      "metadata": {
        "ExecuteTime": {
          "end_time": "2022-12-09T15:26:28.701073Z",
          "start_time": "2022-12-09T15:26:28.696238Z"
        },
        "id": "KwtFB4nAOCpz"
      },
      "outputs": [],
      "source": [
        "idx = month_error_sample['months_number']>100\n",
        "month_error_sample.loc[idx,['old_index','new_index']] = month_error_sample.loc[idx,['new_index','months_number']].values\n",
        "month_error_sample.loc[idx,['months_number']] = 4\n",
        "month_error_sample.loc[month_error_sample['months_number']==0,['months_number']] = 4"
      ]
    },
    {
      "cell_type": "code",
      "execution_count": null,
      "metadata": {
        "ExecuteTime": {
          "end_time": "2022-12-09T15:26:28.709864Z",
          "start_time": "2022-12-09T15:26:28.702582Z"
        },
        "scrolled": false,
        "id": "u5MoSyB-OCpz",
        "outputId": "8131ea9c-fba1-4e10-a1ed-2af8500217ba"
      },
      "outputs": [
        {
          "data": {
            "text/html": [
              "<div>\n",
              "<style scoped>\n",
              "    .dataframe tbody tr th:only-of-type {\n",
              "        vertical-align: middle;\n",
              "    }\n",
              "\n",
              "    .dataframe tbody tr th {\n",
              "        vertical-align: top;\n",
              "    }\n",
              "\n",
              "    .dataframe thead th {\n",
              "        text-align: right;\n",
              "    }\n",
              "</style>\n",
              "<table border=\"1\" class=\"dataframe\">\n",
              "  <thead>\n",
              "    <tr style=\"text-align: right;\">\n",
              "      <th></th>\n",
              "      <th>client_id</th>\n",
              "      <th>invoice_date</th>\n",
              "      <th>counter_number</th>\n",
              "      <th>old_index</th>\n",
              "      <th>new_index</th>\n",
              "      <th>months_number</th>\n",
              "      <th>counter_type</th>\n",
              "    </tr>\n",
              "  </thead>\n",
              "  <tbody>\n",
              "    <tr>\n",
              "      <th>20214</th>\n",
              "      <td>train_Client_100551</td>\n",
              "      <td>2009-03-09</td>\n",
              "      <td>1099471</td>\n",
              "      <td>495</td>\n",
              "      <td>3311</td>\n",
              "      <td>4</td>\n",
              "      <td>ELEC</td>\n",
              "    </tr>\n",
              "    <tr>\n",
              "      <th>20219</th>\n",
              "      <td>train_Client_100551</td>\n",
              "      <td>2009-11-05</td>\n",
              "      <td>1099471</td>\n",
              "      <td>342</td>\n",
              "      <td>495</td>\n",
              "      <td>4</td>\n",
              "      <td>ELEC</td>\n",
              "    </tr>\n",
              "    <tr>\n",
              "      <th>20212</th>\n",
              "      <td>train_Client_100551</td>\n",
              "      <td>2010-06-05</td>\n",
              "      <td>1099471</td>\n",
              "      <td>9971</td>\n",
              "      <td>17815</td>\n",
              "      <td>4</td>\n",
              "      <td>ELEC</td>\n",
              "    </tr>\n",
              "    <tr>\n",
              "      <th>20213</th>\n",
              "      <td>train_Client_100551</td>\n",
              "      <td>2010-08-01</td>\n",
              "      <td>1099471</td>\n",
              "      <td>3311</td>\n",
              "      <td>9971</td>\n",
              "      <td>4</td>\n",
              "      <td>ELEC</td>\n",
              "    </tr>\n",
              "    <tr>\n",
              "      <th>20211</th>\n",
              "      <td>train_Client_100551</td>\n",
              "      <td>2010-08-30</td>\n",
              "      <td>1099471</td>\n",
              "      <td>17815</td>\n",
              "      <td>25778</td>\n",
              "      <td>4</td>\n",
              "      <td>ELEC</td>\n",
              "    </tr>\n",
              "    <tr>\n",
              "      <th>20215</th>\n",
              "      <td>train_Client_100551</td>\n",
              "      <td>2011-03-14</td>\n",
              "      <td>1099471</td>\n",
              "      <td>25778</td>\n",
              "      <td>25778</td>\n",
              "      <td>4</td>\n",
              "      <td>ELEC</td>\n",
              "    </tr>\n",
              "    <tr>\n",
              "      <th>20220</th>\n",
              "      <td>train_Client_100551</td>\n",
              "      <td>2011-08-09</td>\n",
              "      <td>545768</td>\n",
              "      <td>0</td>\n",
              "      <td>6828</td>\n",
              "      <td>8</td>\n",
              "      <td>ELEC</td>\n",
              "    </tr>\n",
              "    <tr>\n",
              "      <th>20217</th>\n",
              "      <td>train_Client_100551</td>\n",
              "      <td>2012-09-01</td>\n",
              "      <td>545768</td>\n",
              "      <td>6828</td>\n",
              "      <td>17146</td>\n",
              "      <td>4</td>\n",
              "      <td>ELEC</td>\n",
              "    </tr>\n",
              "    <tr>\n",
              "      <th>20218</th>\n",
              "      <td>train_Client_100551</td>\n",
              "      <td>2014-06-05</td>\n",
              "      <td>545768</td>\n",
              "      <td>20841</td>\n",
              "      <td>20841</td>\n",
              "      <td>6</td>\n",
              "      <td>ELEC</td>\n",
              "    </tr>\n",
              "    <tr>\n",
              "      <th>20216</th>\n",
              "      <td>train_Client_100551</td>\n",
              "      <td>2017-04-27</td>\n",
              "      <td>545768</td>\n",
              "      <td>20842</td>\n",
              "      <td>20842</td>\n",
              "      <td>30</td>\n",
              "      <td>ELEC</td>\n",
              "    </tr>\n",
              "  </tbody>\n",
              "</table>\n",
              "</div>"
            ],
            "text/plain": [
              "                 client_id invoice_date  counter_number  old_index  new_index  \\\n",
              "20214  train_Client_100551   2009-03-09         1099471        495       3311   \n",
              "20219  train_Client_100551   2009-11-05         1099471        342        495   \n",
              "20212  train_Client_100551   2010-06-05         1099471       9971      17815   \n",
              "20213  train_Client_100551   2010-08-01         1099471       3311       9971   \n",
              "20211  train_Client_100551   2010-08-30         1099471      17815      25778   \n",
              "20215  train_Client_100551   2011-03-14         1099471      25778      25778   \n",
              "20220  train_Client_100551   2011-08-09          545768          0       6828   \n",
              "20217  train_Client_100551   2012-09-01          545768       6828      17146   \n",
              "20218  train_Client_100551   2014-06-05          545768      20841      20841   \n",
              "20216  train_Client_100551   2017-04-27          545768      20842      20842   \n",
              "\n",
              "       months_number counter_type  \n",
              "20214              4         ELEC  \n",
              "20219              4         ELEC  \n",
              "20212              4         ELEC  \n",
              "20213              4         ELEC  \n",
              "20211              4         ELEC  \n",
              "20215              4         ELEC  \n",
              "20220              8         ELEC  \n",
              "20217              4         ELEC  \n",
              "20218              6         ELEC  \n",
              "20216             30         ELEC  "
            ]
          },
          "execution_count": 19,
          "metadata": {},
          "output_type": "execute_result"
        }
      ],
      "source": [
        "month_error_sample[['client_id', 'invoice_date', 'counter_number','old_index',\n",
        "       'new_index', 'months_number', 'counter_type']]"
      ]
    },
    {
      "cell_type": "code",
      "execution_count": null,
      "metadata": {
        "id": "qHjxRwoiOCpz"
      },
      "outputs": [],
      "source": []
    },
    {
      "cell_type": "markdown",
      "metadata": {
        "id": "baR4mxT5OCpz"
      },
      "source": [
        "### Remove clients with bad counter_statue and remarque in train set"
      ]
    },
    {
      "cell_type": "code",
      "execution_count": null,
      "metadata": {
        "ExecuteTime": {
          "end_time": "2022-12-09T15:26:30.433149Z",
          "start_time": "2022-12-09T15:26:28.711436Z"
        },
        "id": "JIWkCc3LOCpz"
      },
      "outputs": [],
      "source": [
        "#Remove clients with bad counter_statue and remarque in train set\n",
        "bad_statue_client = ['train_Client_78338','train_Client_13203','train_Client_53725','train_Client_47780','train_Client_30467']\n",
        "invoice_train = invoice_train[~invoice_train['client_id'].isin(bad_statue_client)]\n",
        "invoice_train = invoice_train[~((invoice_train['client_id']=='train_Client_79075') & (invoice_train['counter_type']=='GAZ'))].reset_index(drop=True)\n",
        "\n",
        "client_train = client_train[~client_train['client_id'].isin(bad_statue_client)].reset_index(drop=True)"
      ]
    },
    {
      "cell_type": "markdown",
      "metadata": {
        "id": "bSreGQ5WOCpz"
      },
      "source": [
        "# Prepare Client Data"
      ]
    },
    {
      "cell_type": "code",
      "execution_count": null,
      "metadata": {
        "ExecuteTime": {
          "end_time": "2022-12-09T16:18:23.772355Z",
          "start_time": "2022-12-09T16:18:23.766357Z"
        },
        "scrolled": false,
        "id": "u5tNphTHOCp0",
        "outputId": "edb08bd9-31db-4ce6-9f28-d6aa43dd8fd3"
      },
      "outputs": [
        {
          "data": {
            "text/html": [
              "<div>\n",
              "<style scoped>\n",
              "    .dataframe tbody tr th:only-of-type {\n",
              "        vertical-align: middle;\n",
              "    }\n",
              "\n",
              "    .dataframe tbody tr th {\n",
              "        vertical-align: top;\n",
              "    }\n",
              "\n",
              "    .dataframe thead th {\n",
              "        text-align: right;\n",
              "    }\n",
              "</style>\n",
              "<table border=\"1\" class=\"dataframe\">\n",
              "  <thead>\n",
              "    <tr style=\"text-align: right;\">\n",
              "      <th></th>\n",
              "      <th>disrict</th>\n",
              "      <th>client_id</th>\n",
              "      <th>client_catg</th>\n",
              "      <th>region</th>\n",
              "      <th>creation_date</th>\n",
              "    </tr>\n",
              "  </thead>\n",
              "  <tbody>\n",
              "    <tr>\n",
              "      <th>0</th>\n",
              "      <td>62</td>\n",
              "      <td>test_Client_0</td>\n",
              "      <td>11</td>\n",
              "      <td>307</td>\n",
              "      <td>28/05/2002</td>\n",
              "    </tr>\n",
              "    <tr>\n",
              "      <th>1</th>\n",
              "      <td>69</td>\n",
              "      <td>test_Client_1</td>\n",
              "      <td>11</td>\n",
              "      <td>103</td>\n",
              "      <td>06/08/2009</td>\n",
              "    </tr>\n",
              "    <tr>\n",
              "      <th>2</th>\n",
              "      <td>62</td>\n",
              "      <td>test_Client_10</td>\n",
              "      <td>11</td>\n",
              "      <td>310</td>\n",
              "      <td>07/04/2004</td>\n",
              "    </tr>\n",
              "    <tr>\n",
              "      <th>3</th>\n",
              "      <td>60</td>\n",
              "      <td>test_Client_100</td>\n",
              "      <td>11</td>\n",
              "      <td>101</td>\n",
              "      <td>08/10/1992</td>\n",
              "    </tr>\n",
              "    <tr>\n",
              "      <th>4</th>\n",
              "      <td>62</td>\n",
              "      <td>test_Client_1000</td>\n",
              "      <td>11</td>\n",
              "      <td>301</td>\n",
              "      <td>21/07/1977</td>\n",
              "    </tr>\n",
              "  </tbody>\n",
              "</table>\n",
              "</div>"
            ],
            "text/plain": [
              "   disrict         client_id  client_catg  region creation_date\n",
              "0       62     test_Client_0           11     307    28/05/2002\n",
              "1       69     test_Client_1           11     103    06/08/2009\n",
              "2       62    test_Client_10           11     310    07/04/2004\n",
              "3       60   test_Client_100           11     101    08/10/1992\n",
              "4       62  test_Client_1000           11     301    21/07/1977"
            ]
          },
          "execution_count": 63,
          "metadata": {},
          "output_type": "execute_result"
        }
      ],
      "source": [
        "client_test.head()"
      ]
    },
    {
      "cell_type": "code",
      "execution_count": null,
      "metadata": {
        "ExecuteTime": {
          "end_time": "2022-12-09T16:18:24.247187Z",
          "start_time": "2022-12-09T16:18:24.243028Z"
        },
        "id": "4PdxMAXvOCp0"
      },
      "outputs": [],
      "source": [
        "def prepare_client(df,Train=True):\n",
        "\n",
        "    df['creation_date'] = pd.to_datetime(df['creation_date'],dayfirst=True)\n",
        "    df['creation_day'] = df['creation_date'].dt.day\n",
        "    df['creation_month'] = df['creation_date'].dt.month\n",
        "    df['creation_year'] = df['creation_date'].dt.year\n",
        "    df['duration']=(2022 - df['creation_date'].dt.year)*12 - df['creation_date'].dt.month\n",
        "\n",
        "    df['disrict'] = df['disrict'].astype(str).astype('category')\n",
        "    df['client_catg'] = df['client_catg'].astype(str).astype('category')\n",
        "    df['region_group'] =  df['region'].apply(lambda x: 1 if x<=100 else 3 if x>=300 else 2)\n",
        "    df['region'] = df['region'].astype(str).astype('category')\n",
        "\n",
        "    if Train:\n",
        "\n",
        "        col_seq = ['client_id','disrict','client_catg', 'region','region_group','creation_date',\n",
        "                   'creation_day','creation_month','creation_year','duration','target']\n",
        "    else:\n",
        "        col_seq = ['client_id','disrict','client_catg', 'region','region_group','creation_date',\n",
        "                   'creation_day','creation_month','creation_year','duration']\n",
        "    df = df[col_seq]\n",
        "\n",
        "    return df"
      ]
    },
    {
      "cell_type": "markdown",
      "metadata": {
        "id": "noTOGY2WOCp0"
      },
      "source": [
        "## Get Client Train Data"
      ]
    },
    {
      "cell_type": "code",
      "execution_count": null,
      "metadata": {
        "ExecuteTime": {
          "end_time": "2022-12-09T16:18:25.012819Z",
          "start_time": "2022-12-09T16:18:24.690405Z"
        },
        "id": "qpIwJ6i0OCp0"
      },
      "outputs": [],
      "source": [
        "client_train = prepare_client(client_train,Train=True)"
      ]
    },
    {
      "cell_type": "markdown",
      "metadata": {
        "id": "zfI1qT_vOCp0"
      },
      "source": [
        "### OneHotEncoding for Categorical Features"
      ]
    },
    {
      "cell_type": "code",
      "execution_count": null,
      "metadata": {
        "ExecuteTime": {
          "end_time": "2022-12-09T16:18:25.150026Z",
          "start_time": "2022-12-09T16:18:25.138500Z"
        },
        "id": "J5SgNjAwOCp0",
        "outputId": "45f98cb9-f80c-441d-9a42-252bb1ade945"
      },
      "outputs": [
        {
          "data": {
            "text/plain": [
              "OneHotEncoder(sparse=False)"
            ]
          },
          "execution_count": 66,
          "metadata": {},
          "output_type": "execute_result"
        }
      ],
      "source": [
        "ohe = OneHotEncoder(sparse=False,categories='auto')\n",
        "\n",
        "ohe_columns = []\n",
        "ohe_cat_cols = ['disrict','client_catg','region']\n",
        "\n",
        "ohe.fit(client_train[ohe_cat_cols])"
      ]
    },
    {
      "cell_type": "code",
      "execution_count": null,
      "metadata": {
        "ExecuteTime": {
          "end_time": "2022-12-09T16:18:25.772002Z",
          "start_time": "2022-12-09T16:18:25.715945Z"
        },
        "id": "qzbURM6hOCp1"
      },
      "outputs": [],
      "source": [
        "for i,c in enumerate(ohe_cat_cols):\n",
        "    ohe_columns += [f'{c}_{v}' for v in ohe.categories_[i]]\n",
        "dummy_train = pd.DataFrame(ohe.transform(client_train[ohe_cat_cols]),columns=ohe_columns)"
      ]
    },
    {
      "cell_type": "code",
      "execution_count": null,
      "metadata": {
        "ExecuteTime": {
          "end_time": "2022-12-09T16:18:26.272424Z",
          "start_time": "2022-12-09T16:18:26.018438Z"
        },
        "id": "gqm-sR4bOCp1",
        "outputId": "4c0449dc-8d96-4f11-9ac7-5cf491b46812"
      },
      "outputs": [
        {
          "name": "stdout",
          "output_type": "stream",
          "text": [
            "Mem. usage decreased to 11.50 Mb (72.2% reduction)\n",
            "(135493, 40)\n"
          ]
        }
      ],
      "source": [
        "client_train = reduce_mem_usage(pd.concat([client_train.drop(ohe_cat_cols,axis=1),dummy_train],axis=1))\n",
        "print(client_train.shape)"
      ]
    },
    {
      "cell_type": "code",
      "execution_count": null,
      "metadata": {
        "ExecuteTime": {
          "end_time": "2022-12-09T16:18:26.539108Z",
          "start_time": "2022-12-09T16:18:26.522549Z"
        },
        "scrolled": false,
        "id": "Kz0gUC-dOCp1",
        "outputId": "2305f6b2-871a-474f-ced1-24587ab2dc6b"
      },
      "outputs": [
        {
          "data": {
            "text/html": [
              "<div>\n",
              "<style scoped>\n",
              "    .dataframe tbody tr th:only-of-type {\n",
              "        vertical-align: middle;\n",
              "    }\n",
              "\n",
              "    .dataframe tbody tr th {\n",
              "        vertical-align: top;\n",
              "    }\n",
              "\n",
              "    .dataframe thead th {\n",
              "        text-align: right;\n",
              "    }\n",
              "</style>\n",
              "<table border=\"1\" class=\"dataframe\">\n",
              "  <thead>\n",
              "    <tr style=\"text-align: right;\">\n",
              "      <th></th>\n",
              "      <th>client_id</th>\n",
              "      <th>region_group</th>\n",
              "      <th>creation_date</th>\n",
              "      <th>creation_day</th>\n",
              "      <th>creation_month</th>\n",
              "      <th>creation_year</th>\n",
              "      <th>duration</th>\n",
              "      <th>target</th>\n",
              "      <th>disrict_60</th>\n",
              "      <th>disrict_62</th>\n",
              "      <th>...</th>\n",
              "      <th>region_308</th>\n",
              "      <th>region_309</th>\n",
              "      <th>region_310</th>\n",
              "      <th>region_311</th>\n",
              "      <th>region_312</th>\n",
              "      <th>region_313</th>\n",
              "      <th>region_371</th>\n",
              "      <th>region_372</th>\n",
              "      <th>region_379</th>\n",
              "      <th>region_399</th>\n",
              "    </tr>\n",
              "  </thead>\n",
              "  <tbody>\n",
              "    <tr>\n",
              "      <th>0</th>\n",
              "      <td>train_Client_0</td>\n",
              "      <td>2</td>\n",
              "      <td>1994-12-31</td>\n",
              "      <td>31</td>\n",
              "      <td>12</td>\n",
              "      <td>1994</td>\n",
              "      <td>324</td>\n",
              "      <td>0.0</td>\n",
              "      <td>1.0</td>\n",
              "      <td>0.0</td>\n",
              "      <td>...</td>\n",
              "      <td>0.0</td>\n",
              "      <td>0.0</td>\n",
              "      <td>0.0</td>\n",
              "      <td>0.0</td>\n",
              "      <td>0.0</td>\n",
              "      <td>0.0</td>\n",
              "      <td>0.0</td>\n",
              "      <td>0.0</td>\n",
              "      <td>0.0</td>\n",
              "      <td>0.0</td>\n",
              "    </tr>\n",
              "    <tr>\n",
              "      <th>1</th>\n",
              "      <td>train_Client_1</td>\n",
              "      <td>2</td>\n",
              "      <td>2002-05-29</td>\n",
              "      <td>29</td>\n",
              "      <td>5</td>\n",
              "      <td>2002</td>\n",
              "      <td>235</td>\n",
              "      <td>0.0</td>\n",
              "      <td>0.0</td>\n",
              "      <td>0.0</td>\n",
              "      <td>...</td>\n",
              "      <td>0.0</td>\n",
              "      <td>0.0</td>\n",
              "      <td>0.0</td>\n",
              "      <td>0.0</td>\n",
              "      <td>0.0</td>\n",
              "      <td>0.0</td>\n",
              "      <td>0.0</td>\n",
              "      <td>0.0</td>\n",
              "      <td>0.0</td>\n",
              "      <td>0.0</td>\n",
              "    </tr>\n",
              "    <tr>\n",
              "      <th>2</th>\n",
              "      <td>train_Client_10</td>\n",
              "      <td>3</td>\n",
              "      <td>1986-03-13</td>\n",
              "      <td>13</td>\n",
              "      <td>3</td>\n",
              "      <td>1986</td>\n",
              "      <td>429</td>\n",
              "      <td>0.0</td>\n",
              "      <td>0.0</td>\n",
              "      <td>1.0</td>\n",
              "      <td>...</td>\n",
              "      <td>0.0</td>\n",
              "      <td>0.0</td>\n",
              "      <td>0.0</td>\n",
              "      <td>0.0</td>\n",
              "      <td>0.0</td>\n",
              "      <td>0.0</td>\n",
              "      <td>0.0</td>\n",
              "      <td>0.0</td>\n",
              "      <td>0.0</td>\n",
              "      <td>0.0</td>\n",
              "    </tr>\n",
              "    <tr>\n",
              "      <th>3</th>\n",
              "      <td>train_Client_100</td>\n",
              "      <td>2</td>\n",
              "      <td>1996-07-11</td>\n",
              "      <td>11</td>\n",
              "      <td>7</td>\n",
              "      <td>1996</td>\n",
              "      <td>305</td>\n",
              "      <td>0.0</td>\n",
              "      <td>0.0</td>\n",
              "      <td>0.0</td>\n",
              "      <td>...</td>\n",
              "      <td>0.0</td>\n",
              "      <td>0.0</td>\n",
              "      <td>0.0</td>\n",
              "      <td>0.0</td>\n",
              "      <td>0.0</td>\n",
              "      <td>0.0</td>\n",
              "      <td>0.0</td>\n",
              "      <td>0.0</td>\n",
              "      <td>0.0</td>\n",
              "      <td>0.0</td>\n",
              "    </tr>\n",
              "    <tr>\n",
              "      <th>4</th>\n",
              "      <td>train_Client_1000</td>\n",
              "      <td>3</td>\n",
              "      <td>2014-10-14</td>\n",
              "      <td>14</td>\n",
              "      <td>10</td>\n",
              "      <td>2014</td>\n",
              "      <td>86</td>\n",
              "      <td>0.0</td>\n",
              "      <td>0.0</td>\n",
              "      <td>1.0</td>\n",
              "      <td>...</td>\n",
              "      <td>0.0</td>\n",
              "      <td>0.0</td>\n",
              "      <td>0.0</td>\n",
              "      <td>0.0</td>\n",
              "      <td>0.0</td>\n",
              "      <td>0.0</td>\n",
              "      <td>0.0</td>\n",
              "      <td>0.0</td>\n",
              "      <td>0.0</td>\n",
              "      <td>0.0</td>\n",
              "    </tr>\n",
              "  </tbody>\n",
              "</table>\n",
              "<p>5 rows × 40 columns</p>\n",
              "</div>"
            ],
            "text/plain": [
              "           client_id  region_group creation_date  creation_day  \\\n",
              "0     train_Client_0             2    1994-12-31            31   \n",
              "1     train_Client_1             2    2002-05-29            29   \n",
              "2    train_Client_10             3    1986-03-13            13   \n",
              "3   train_Client_100             2    1996-07-11            11   \n",
              "4  train_Client_1000             3    2014-10-14            14   \n",
              "\n",
              "   creation_month  creation_year  duration  target  disrict_60  disrict_62  \\\n",
              "0              12           1994       324     0.0         1.0         0.0   \n",
              "1               5           2002       235     0.0         0.0         0.0   \n",
              "2               3           1986       429     0.0         0.0         1.0   \n",
              "3               7           1996       305     0.0         0.0         0.0   \n",
              "4              10           2014        86     0.0         0.0         1.0   \n",
              "\n",
              "   ...  region_308  region_309  region_310  region_311  region_312  \\\n",
              "0  ...         0.0         0.0         0.0         0.0         0.0   \n",
              "1  ...         0.0         0.0         0.0         0.0         0.0   \n",
              "2  ...         0.0         0.0         0.0         0.0         0.0   \n",
              "3  ...         0.0         0.0         0.0         0.0         0.0   \n",
              "4  ...         0.0         0.0         0.0         0.0         0.0   \n",
              "\n",
              "   region_313  region_371  region_372  region_379  region_399  \n",
              "0         0.0         0.0         0.0         0.0         0.0  \n",
              "1         0.0         0.0         0.0         0.0         0.0  \n",
              "2         0.0         0.0         0.0         0.0         0.0  \n",
              "3         0.0         0.0         0.0         0.0         0.0  \n",
              "4         0.0         0.0         0.0         0.0         0.0  \n",
              "\n",
              "[5 rows x 40 columns]"
            ]
          },
          "execution_count": 69,
          "metadata": {},
          "output_type": "execute_result"
        }
      ],
      "source": [
        "client_train.head()"
      ]
    },
    {
      "cell_type": "markdown",
      "metadata": {
        "id": "xl23o33hOCp1"
      },
      "source": [
        "## Get Client Test Data"
      ]
    },
    {
      "cell_type": "code",
      "execution_count": null,
      "metadata": {
        "ExecuteTime": {
          "end_time": "2022-12-09T16:18:28.639103Z",
          "start_time": "2022-12-09T16:18:28.394945Z"
        },
        "scrolled": false,
        "id": "7zgpfSL2OCp6",
        "outputId": "4689d83e-82bc-4719-b7d8-e2540811eadc"
      },
      "outputs": [
        {
          "name": "stdout",
          "output_type": "stream",
          "text": [
            "Mem. usage decreased to  4.82 Mb (72.1% reduction)\n",
            "(135493, 40)\n"
          ]
        }
      ],
      "source": [
        "client_test = prepare_client(client_test,Train=False)\n",
        "\n",
        "dummy_test = pd.DataFrame(ohe.transform(client_test[ohe_cat_cols]),columns=ohe_columns)\n",
        "\n",
        "client_test = reduce_mem_usage(pd.concat([client_test.drop(ohe_cat_cols,axis=1),dummy_test],axis=1))\n",
        "print(client_train.shape)"
      ]
    },
    {
      "cell_type": "markdown",
      "metadata": {
        "id": "FKO0Ta11OCp7"
      },
      "source": [
        "# Prepare Invoice Data"
      ]
    },
    {
      "cell_type": "markdown",
      "metadata": {
        "id": "fEd306AwOCp7"
      },
      "source": [
        "## Concat Invoice Train and Test"
      ]
    },
    {
      "cell_type": "code",
      "execution_count": null,
      "metadata": {
        "ExecuteTime": {
          "end_time": "2022-12-09T15:26:33.249718Z",
          "start_time": "2022-12-09T15:26:30.970703Z"
        },
        "id": "zLoWCmYkOCp7",
        "outputId": "64afb990-3371-42e8-9165-89bf0b1abfec"
      },
      "outputs": [
        {
          "name": "stdout",
          "output_type": "stream",
          "text": [
            "Mem. usage decreased to 446.69 Mb (43.0% reduction)\n",
            "(6416334, 16)\n"
          ]
        }
      ],
      "source": [
        "data = pd.concat([invoice_train,invoice_test],axis=0).reset_index(drop=True)\n",
        "data = reduce_mem_usage(data)\n",
        "print(data.shape)"
      ]
    },
    {
      "cell_type": "code",
      "execution_count": null,
      "metadata": {
        "ExecuteTime": {
          "end_time": "2022-12-09T15:26:34.305438Z",
          "start_time": "2022-12-09T15:26:33.254512Z"
        },
        "id": "ClgMmMcGOCp7"
      },
      "outputs": [],
      "source": [
        "# Adjust Wrong Column Vlues\n",
        "idx = data['months_number']>100\n",
        "data.loc[idx,['old_index','new_index']] = data.loc[idx,['new_index','months_number']].values\n",
        "data.loc[idx,['months_number']] = 4\n",
        "data.loc[data['months_number']==0,['months_number']] = 4\n",
        "\n",
        "# Adjust Consumption\n",
        "data['consommation_level_1'] = round(data['consommation_level_1']/data['months_number'],0)\n",
        "data['consommation_level_2'] = round(data['consommation_level_2']/data['months_number'],0)\n",
        "data['consommation_level_3'] = round(data['consommation_level_3']/data['months_number'],0)\n",
        "data['consommation_level_4'] = round(data['consommation_level_4']/data['months_number'],0)"
      ]
    },
    {
      "cell_type": "code",
      "execution_count": null,
      "metadata": {
        "ExecuteTime": {
          "end_time": "2022-12-09T15:26:45.010670Z",
          "start_time": "2022-12-09T15:26:34.308012Z"
        },
        "id": "VXRFQZtOOCp7"
      },
      "outputs": [],
      "source": [
        "# Adjust Column Type\n",
        "data['invoice_date'] = pd.to_datetime(data['invoice_date'])\n",
        "\n",
        "#data['tarif_type'] = data['tarif_type'].astype(str)\n",
        "data['tarif_type_str'] = data['tarif_type'].astype(str)\n",
        "\n",
        "#data['counter_number'] = data['counter_number'].astype(str)\n",
        "\n",
        "data['counter_statue'] = data['counter_statue'].astype(str)\n",
        "data['counter_statue_str'] = data['counter_statue']\n",
        "\n",
        "#data['counter_code'] = data['counter_code'].astype(str)\n",
        "data['counter_code_str'] = data['counter_code'].astype(str)\n",
        "\n",
        "#data['reading_remarque'] = data['reading_remarque'].astype(str)\n",
        "data['reading_remarque_str'] = data['reading_remarque'].astype(str)"
      ]
    },
    {
      "cell_type": "code",
      "execution_count": null,
      "metadata": {
        "ExecuteTime": {
          "end_time": "2022-12-09T15:26:45.081390Z",
          "start_time": "2022-12-09T15:26:45.011875Z"
        },
        "id": "q9G2lChIOCp8"
      },
      "outputs": [],
      "source": [
        "# Helper Column for Counter Type Split\n",
        "data['GAZ']='GAZ'\n",
        "data['ELEC']='ELEC'"
      ]
    },
    {
      "cell_type": "markdown",
      "metadata": {
        "id": "YA6BoFdiOCp8"
      },
      "source": [
        "## Feature Engineering"
      ]
    },
    {
      "cell_type": "markdown",
      "metadata": {
        "id": "kkizhuWMOCp8"
      },
      "source": [
        "### Add Time Features"
      ]
    },
    {
      "cell_type": "code",
      "execution_count": null,
      "metadata": {
        "ExecuteTime": {
          "end_time": "2022-12-09T15:26:45.804204Z",
          "start_time": "2022-12-09T15:26:45.082664Z"
        },
        "id": "t863TolsOCp9"
      },
      "outputs": [],
      "source": [
        "data['invoice_date_day'] = data['invoice_date'].dt.day\n",
        "data['invoice_date_month'] = data['invoice_date'].dt.month\n",
        "data['invoice_date_year'] = data['invoice_date'].dt.year"
      ]
    },
    {
      "cell_type": "markdown",
      "metadata": {
        "id": "eki4k2KqOCp9"
      },
      "source": [
        "### Add Diff Features"
      ]
    },
    {
      "cell_type": "code",
      "execution_count": null,
      "metadata": {
        "ExecuteTime": {
          "end_time": "2022-12-09T15:26:45.851130Z",
          "start_time": "2022-12-09T15:26:45.805603Z"
        },
        "id": "wFpJaSulOCp9"
      },
      "outputs": [],
      "source": [
        "data['index_diff'] = data['new_index']-data['old_index']"
      ]
    },
    {
      "cell_type": "code",
      "execution_count": null,
      "metadata": {
        "ExecuteTime": {
          "end_time": "2022-12-09T15:30:30.700555Z",
          "start_time": "2022-12-09T15:26:45.852295Z"
        },
        "id": "9W2iMI6HOCp9"
      },
      "outputs": [],
      "source": [
        "data['invoice_diff']=data.sort_values(by=['client_id','counter_type','invoice_date']).groupby(['client_id','counter_type'])['invoice_date'].diff().dt.days\n",
        "data['con_1_diff']=data.sort_values(by=['client_id','counter_type','counter_number','old_index']).groupby(['client_id','counter_type','counter_number'])['consommation_level_1'].diff()\n",
        "data['con_2_diff']=data.sort_values(by=['client_id','counter_type','counter_number','old_index']).groupby(['client_id','counter_type','counter_number'])['consommation_level_2'].diff()\n",
        "data['con_3_diff']=data.sort_values(by=['client_id','counter_type','counter_number','old_index']).groupby(['client_id','counter_type','counter_number'])['consommation_level_3'].diff()\n",
        "data['con_4_diff']=data.sort_values(by=['client_id','counter_type','counter_number','old_index']).groupby(['client_id','counter_type','counter_number'])['consommation_level_4'].diff()\n",
        "data['index_diff_diff']=data.sort_values(by=['client_id','counter_type','counter_number','old_index']).groupby(['client_id','counter_type','counter_number'])['index_diff'].diff()\n"
      ]
    },
    {
      "cell_type": "markdown",
      "metadata": {
        "id": "WJOoTNRCOCp9"
      },
      "source": [
        "### Interaction Columns"
      ]
    },
    {
      "cell_type": "code",
      "execution_count": null,
      "metadata": {
        "ExecuteTime": {
          "end_time": "2022-12-09T15:30:30.790981Z",
          "start_time": "2022-12-09T15:30:30.701769Z"
        },
        "id": "7JtZenrHOCp-"
      },
      "outputs": [],
      "source": [
        "data['number_plus_code'] = data['counter_number'] + data['counter_code']\n",
        "data['number_minus_code'] = data['counter_number'] - data['counter_code']\n",
        "data['number_multi_code'] = data['counter_number'] * data['counter_code']\n",
        "data['number_div_code'] = data['counter_number'] / data['counter_code']"
      ]
    },
    {
      "cell_type": "code",
      "execution_count": null,
      "metadata": {
        "id": "8rYGs7r5OCp-"
      },
      "outputs": [],
      "source": []
    },
    {
      "cell_type": "markdown",
      "metadata": {
        "id": "wTZDP1tLOCp-"
      },
      "source": [
        "### Feature Aggregation"
      ]
    },
    {
      "cell_type": "code",
      "execution_count": null,
      "metadata": {
        "ExecuteTime": {
          "end_time": "2022-12-09T15:30:33.626326Z",
          "start_time": "2022-12-09T15:30:30.792238Z"
        },
        "id": "jSKSEC4JOCp-"
      },
      "outputs": [],
      "source": [
        "# Create base dataframe for aggregation\n",
        "base = data[['client_id','ELEC','GAZ']].drop_duplicates()\n",
        "# Create helper columns for quick mapping\n",
        "base['ELEC'] = list(zip(base['client_id'],base['ELEC']))\n",
        "base['GAZ'] = list(zip(base['client_id'],base['GAZ']))"
      ]
    },
    {
      "cell_type": "code",
      "execution_count": null,
      "metadata": {
        "ExecuteTime": {
          "end_time": "2022-12-09T15:30:33.630137Z",
          "start_time": "2022-12-09T15:30:33.627586Z"
        },
        "id": "FjOBTuQSOCp-",
        "outputId": "4a4fb00a-63b0-4c1b-eacc-d06d16e2166b"
      },
      "outputs": [
        {
          "data": {
            "text/plain": [
              "(193557, 3)"
            ]
          },
          "execution_count": 35,
          "metadata": {},
          "output_type": "execute_result"
        }
      ],
      "source": [
        "base.shape"
      ]
    },
    {
      "cell_type": "code",
      "execution_count": null,
      "metadata": {
        "ExecuteTime": {
          "end_time": "2022-12-09T15:30:33.637903Z",
          "start_time": "2022-12-09T15:30:33.632303Z"
        },
        "id": "jwSI0zz4OCp-"
      },
      "outputs": [],
      "source": [
        "num_feature = ['consommation_level_1','consommation_level_2','consommation_level_3','consommation_level_4',\n",
        "               'old_index','new_index','number_plus_code','number_minus_code','number_multi_code','number_div_code']\n",
        "\n",
        "num_diff_feature = ['invoice_diff','con_1_diff','con_2_diff','con_3_diff','con_4_diff','index_diff_diff']\n",
        "\n",
        "cate_feature = ['tarif_type', 'counter_number','counter_statue', 'counter_code',\n",
        "                'reading_remarque','counter_coefficient',\n",
        "                'invoice_date_day','invoice_date_month','invoice_date_year']\n",
        "\n",
        "cate_freq_feature = ['tarif_type_str','counter_statue_str', 'counter_code_str','reading_remarque_str']\n"
      ]
    },
    {
      "cell_type": "markdown",
      "metadata": {
        "id": "gMHSh4hfOCp_"
      },
      "source": [
        "#### Label Encode Categorical Features"
      ]
    },
    {
      "cell_type": "code",
      "execution_count": null,
      "metadata": {
        "ExecuteTime": {
          "end_time": "2022-12-09T15:30:37.272597Z",
          "start_time": "2022-12-09T15:30:33.640188Z"
        },
        "id": "YubaUDDlOCp_"
      },
      "outputs": [],
      "source": [
        "le = LabelEncoder()\n",
        "for feature in cate_feature:\n",
        "    le.fit(data[feature])\n",
        "    data[feature] = le.transform(data[feature])"
      ]
    },
    {
      "cell_type": "markdown",
      "metadata": {
        "ExecuteTime": {
          "end_time": "2022-11-23T16:25:36.843480Z",
          "start_time": "2022-11-23T16:25:36.841246Z"
        },
        "id": "CF8-kNBnOCp_"
      },
      "source": [
        "#### Numerical Feature aggregation"
      ]
    },
    {
      "cell_type": "code",
      "execution_count": null,
      "metadata": {
        "ExecuteTime": {
          "end_time": "2022-12-09T15:30:37.276072Z",
          "start_time": "2022-12-09T15:30:37.274176Z"
        },
        "id": "_Vd0yiZDOCp_"
      },
      "outputs": [],
      "source": [
        "#num_feature = ['consommation_level_1']"
      ]
    },
    {
      "cell_type": "code",
      "execution_count": null,
      "metadata": {
        "ExecuteTime": {
          "end_time": "2022-12-09T15:36:06.989113Z",
          "start_time": "2022-12-09T15:30:37.277709Z"
        },
        "id": "TOSZU_g7OCp_"
      },
      "outputs": [],
      "source": [
        "for feature in (num_feature):\n",
        "    mean_dict = dict(data.groupby(['client_id','counter_type'])[feature].mean())\n",
        "    min_dict = dict(data.groupby(['client_id','counter_type'])[feature].min())\n",
        "    max_dict = dict(data.groupby(['client_id','counter_type'])[feature].max())\n",
        "    std_dict = dict(data.groupby(['client_id','counter_type'])[feature].std())\n",
        "    sum_dict = dict(data.groupby(['client_id','counter_type'])[feature].sum())\n",
        "    for type_ in ['ELEC','GAZ']:\n",
        "        base[f'{feature}_mean_{type_}'] = base[f'{type_}'].map(mean_dict)\n",
        "        base[f'{feature}_min_{type_}'] = base[f'{type_}'].map(min_dict)\n",
        "        base[f'{feature}_max_{type_}'] = base[f'{type_}'].map(max_dict)\n",
        "        base[f'{feature}_std_{type_}'] = base[f'{type_}'].map(std_dict)\n",
        "        base[f'{feature}_sum_{type_}'] = base[f'{type_}'].map(sum_dict)\n",
        "\n",
        "        base[f'{feature}_range_{type_}'] = base[f'{feature}_max_{type_}'] - base[f'{feature}_min_{type_}']\n",
        "        base[f'{feature}_max_mean_diff_{type_}'] = base[f'{feature}_max_{type_}'] - base[f'{feature}_mean_{type_}']"
      ]
    },
    {
      "cell_type": "markdown",
      "metadata": {
        "id": "PBIrgeOsOCqA"
      },
      "source": [
        "#### Numerical Diff Feature aggregation"
      ]
    },
    {
      "cell_type": "code",
      "execution_count": null,
      "metadata": {
        "ExecuteTime": {
          "end_time": "2022-12-09T15:36:06.991635Z",
          "start_time": "2022-12-09T15:36:06.990297Z"
        },
        "id": "tW_eeLHQOCqA"
      },
      "outputs": [],
      "source": [
        "#num_diff_feature = ['con_1_diff']"
      ]
    },
    {
      "cell_type": "code",
      "execution_count": null,
      "metadata": {
        "ExecuteTime": {
          "end_time": "2022-12-09T15:39:25.209012Z",
          "start_time": "2022-12-09T15:36:06.992819Z"
        },
        "id": "N-942FqhOCqA"
      },
      "outputs": [],
      "source": [
        "for feature in num_diff_feature:\n",
        "    mean_dict = dict(data.groupby(['client_id','counter_type'])[feature].mean())\n",
        "    min_dict = dict(data.groupby(['client_id','counter_type'])[feature].min())\n",
        "    max_dict = dict(data.groupby(['client_id','counter_type'])[feature].max())\n",
        "    std_dict = dict(data.groupby(['client_id','counter_type'])[feature].std())\n",
        "    sum_dict = dict(data.groupby(['client_id','counter_type'])[feature].sum())\n",
        "    for type_ in ['ELEC','GAZ']:\n",
        "        base[f'{feature}_mean_{type_}'] = base[f'{type_}'].map(mean_dict)\n",
        "        base[f'{feature}_min_{type_}'] = base[f'{type_}'].map(min_dict)\n",
        "        base[f'{feature}_max_{type_}'] = base[f'{type_}'].map(max_dict)\n",
        "        base[f'{feature}_std_{type_}'] = base[f'{type_}'].map(std_dict)\n",
        "        base[f'{feature}_sum_{type_}'] = base[f'{type_}'].map(sum_dict)\n",
        "\n",
        "        base[f'{feature}_range_{type_}'] = base[f'{feature}_max_{type_}'] - base[f'{feature}_min_{type_}']\n",
        "        base[f'{feature}_max_mean_diff_{type_}'] = base[f'{feature}_max_{type_}'] - base[f'{feature}_mean_{type_}']"
      ]
    },
    {
      "cell_type": "markdown",
      "metadata": {
        "id": "M48-_a_GOCqA"
      },
      "source": [
        "#### Categorical Feature aggregation"
      ]
    },
    {
      "cell_type": "code",
      "execution_count": null,
      "metadata": {
        "ExecuteTime": {
          "end_time": "2022-12-09T15:39:25.211571Z",
          "start_time": "2022-12-09T15:39:25.210226Z"
        },
        "id": "Q540d1CFOCqA"
      },
      "outputs": [],
      "source": [
        "#cate_feature = ['tarif_type']"
      ]
    },
    {
      "cell_type": "code",
      "execution_count": null,
      "metadata": {
        "ExecuteTime": {
          "end_time": "2022-12-09T15:45:27.554798Z",
          "start_time": "2022-12-09T15:39:25.213393Z"
        },
        "id": "tGpKrtn-OCqB"
      },
      "outputs": [],
      "source": [
        "for feature in cate_feature:\n",
        "    nunique_dict = dict(data.groupby(['client_id','counter_type'])[feature].nunique())\n",
        "    mode_dict = dict(data.groupby(['client_id','counter_type'])[feature].agg(lambda x: pd.Series.mode(x)[0]))\n",
        "    for type_ in ['ELEC','GAZ']:\n",
        "        base[f'{feature}_nunique_{type_}'] = base[f'{type_}'].map(nunique_dict)\n",
        "        base[f'{feature}_mode_{type_}'] = base[f'{type_}'].map(mode_dict)"
      ]
    },
    {
      "cell_type": "markdown",
      "metadata": {
        "id": "01t9N26wOCqB"
      },
      "source": [
        "#### Categorical Feature Frequency Aggregation"
      ]
    },
    {
      "cell_type": "code",
      "execution_count": null,
      "metadata": {
        "ExecuteTime": {
          "end_time": "2022-12-09T15:45:34.768981Z",
          "start_time": "2022-12-09T15:45:27.555943Z"
        },
        "id": "aeom3euOOCqB"
      },
      "outputs": [],
      "source": [
        "# 1. Tarif_type\n",
        "tarif_group = data.groupby(['client_id','counter_type','tarif_type_str']).agg(Percent=('tarif_type_str', 'count'))\n",
        "tarif_group = (tarif_group / tarif_group.groupby(level=[0, 1]).transform(\"sum\")).reset_index()\n",
        "\n",
        "tarif_group=tarif_group.set_index(['client_id','counter_type','tarif_type_str']).stack().unstack([2,1])\n",
        "tarif_group.columns = tarif_group.columns.map('_'.join)\n",
        "tarif_group.sort_index(axis=1,inplace=True)\n",
        "tarif_group=tarif_group.add_prefix('Tarif_Type_').reset_index().drop(columns=['level_1']).fillna(0)\n",
        "\n",
        "#  2. Counter_statue\n",
        "statue_group = data.groupby(['client_id','counter_type','counter_statue_str']).agg(Percent=('counter_statue_str', 'count'))\n",
        "statue_group = (statue_group / statue_group.groupby(level=[0, 1]).transform(\"sum\")).reset_index()\n",
        "\n",
        "statue_group=statue_group.set_index(['client_id','counter_type','counter_statue_str']).stack().unstack([2,1])\n",
        "statue_group.columns = statue_group.columns.map('_'.join)\n",
        "statue_group.sort_index(axis=1,inplace=True)\n",
        "statue_group=statue_group.add_prefix('Statue_').reset_index().drop(columns=['level_1']).fillna(0)\n",
        "\n",
        "#  3.  Counter_code\n",
        "code_group = data.groupby(['client_id','counter_type','counter_code_str']).agg(Percent=('counter_code_str', 'count'))\n",
        "code_group = (code_group / code_group.groupby(level=[0, 1]).transform(\"sum\")).reset_index()\n",
        "\n",
        "code_group=code_group.set_index(['client_id','counter_type','counter_code_str']).stack().unstack([2,1])\n",
        "code_group.columns = code_group.columns.map('_'.join)\n",
        "code_group.sort_index(axis=1,inplace=True)\n",
        "code_group=code_group.add_prefix('Code_').reset_index().drop(columns=['level_1']).fillna(0)\n",
        "\n",
        "#  4.  Reading_remarque\n",
        "rem_group = data.groupby(['client_id','counter_type','reading_remarque_str']).agg(Percent=('reading_remarque_str', 'count'))\n",
        "rem_group = (rem_group / rem_group.groupby(level=[0, 1]).transform(\"sum\")).reset_index()\n",
        "\n",
        "rem_group=rem_group.set_index(['client_id','counter_type','reading_remarque_str']).stack().unstack([2,1])\n",
        "rem_group.columns = rem_group.columns.map('_'.join)\n",
        "rem_group.sort_index(axis=1,inplace=True)\n",
        "rem_group=rem_group.add_prefix('Rem_').reset_index().drop(columns=['level_1']).fillna(0)"
      ]
    },
    {
      "cell_type": "markdown",
      "metadata": {
        "id": "HbHAh2-POCqB"
      },
      "source": [
        "#### Extra Features"
      ]
    },
    {
      "cell_type": "code",
      "execution_count": null,
      "metadata": {
        "ExecuteTime": {
          "end_time": "2022-12-09T15:45:38.410889Z",
          "start_time": "2022-12-09T15:45:34.770205Z"
        },
        "id": "HQCPSQCeOCqB"
      },
      "outputs": [],
      "source": [
        "#  1. Invoice_Count\n",
        "count_group=data.groupby(['client_id','counter_type']).size().reset_index(name='Invoice_Count')\n",
        "count_group=count_group.set_index(['client_id','counter_type']).stack().unstack([2,1])\n",
        "count_group.columns = count_group.columns.map('_'.join)\n",
        "count_group = count_group.reset_index().fillna(0)\n",
        "\n",
        "#  2. Invoice Date Range\n",
        "invoice_range_group=data.groupby(['client_id','counter_type']).agg(first_date=('invoice_date', np.min),\n",
        "                                                               last_date=('invoice_date', np.max)).reset_index()\n",
        "\n",
        "invoice_range_group['date_range'] = (invoice_range_group['last_date']-invoice_range_group['first_date']).dt.days\n",
        "\n",
        "invoice_range_group=invoice_range_group.set_index(['client_id','counter_type']).stack().unstack([2,1])\n",
        "invoice_range_group.columns = invoice_range_group.columns.map('_'.join)\n",
        "invoice_range_group = invoice_range_group.reset_index()"
      ]
    },
    {
      "cell_type": "markdown",
      "metadata": {
        "id": "cc_fr4ghOCqC"
      },
      "source": [
        "### Combine All Features"
      ]
    },
    {
      "cell_type": "code",
      "execution_count": null,
      "metadata": {
        "ExecuteTime": {
          "end_time": "2022-12-09T15:46:00.803210Z",
          "start_time": "2022-12-09T15:45:38.412056Z"
        },
        "id": "hsACFubyOCqC",
        "outputId": "99fde907-0370-4a90-c17c-e918e2a4f781"
      },
      "outputs": [
        {
          "name": "stdout",
          "output_type": "stream",
          "text": [
            "Mem. usage decreased to 185.70 Mb (63.8% reduction)\n"
          ]
        }
      ],
      "source": [
        "df_list = [base, count_group, invoice_range_group, tarif_group,statue_group,code_group, rem_group]\n",
        "final = df_list[0]\n",
        "for df_ in df_list[1:]:\n",
        "    final = final.merge(df_, how='left',on='client_id')\n",
        "\n",
        "final.drop(columns=['ELEC','GAZ'],inplace=True)\n",
        "final = reduce_mem_usage(final)"
      ]
    },
    {
      "cell_type": "code",
      "execution_count": null,
      "metadata": {
        "ExecuteTime": {
          "end_time": "2022-12-09T15:46:00.827721Z",
          "start_time": "2022-12-09T15:46:00.804518Z"
        },
        "id": "3-M6uLaCOCqC",
        "outputId": "9e9c8fdc-2472-48ae-f9a3-ea8a5b5c6247"
      },
      "outputs": [
        {
          "data": {
            "text/html": [
              "<div>\n",
              "<style scoped>\n",
              "    .dataframe tbody tr th:only-of-type {\n",
              "        vertical-align: middle;\n",
              "    }\n",
              "\n",
              "    .dataframe tbody tr th {\n",
              "        vertical-align: top;\n",
              "    }\n",
              "\n",
              "    .dataframe thead th {\n",
              "        text-align: right;\n",
              "    }\n",
              "</style>\n",
              "<table border=\"1\" class=\"dataframe\">\n",
              "  <thead>\n",
              "    <tr style=\"text-align: right;\">\n",
              "      <th></th>\n",
              "      <th>client_id</th>\n",
              "      <th>consommation_level_1_mean_ELEC</th>\n",
              "      <th>consommation_level_1_min_ELEC</th>\n",
              "      <th>consommation_level_1_max_ELEC</th>\n",
              "      <th>consommation_level_1_std_ELEC</th>\n",
              "      <th>consommation_level_1_sum_ELEC</th>\n",
              "      <th>consommation_level_1_range_ELEC</th>\n",
              "      <th>consommation_level_1_max_mean_diff_ELEC</th>\n",
              "      <th>consommation_level_1_mean_GAZ</th>\n",
              "      <th>consommation_level_1_min_GAZ</th>\n",
              "      <th>...</th>\n",
              "      <th>Code_600_ELEC</th>\n",
              "      <th>Code_65_GAZ</th>\n",
              "      <th>Rem_6_ELEC</th>\n",
              "      <th>Rem_6_GAZ</th>\n",
              "      <th>Rem_7_ELEC</th>\n",
              "      <th>Rem_7_GAZ</th>\n",
              "      <th>Rem_8_ELEC</th>\n",
              "      <th>Rem_8_GAZ</th>\n",
              "      <th>Rem_9_ELEC</th>\n",
              "      <th>Rem_9_GAZ</th>\n",
              "    </tr>\n",
              "  </thead>\n",
              "  <tbody>\n",
              "    <tr>\n",
              "      <th>0</th>\n",
              "      <td>train_Client_0</td>\n",
              "      <td>79.875000</td>\n",
              "      <td>19.0</td>\n",
              "      <td>300.0</td>\n",
              "      <td>76.312500</td>\n",
              "      <td>2796.0</td>\n",
              "      <td>281.0</td>\n",
              "      <td>220.125000</td>\n",
              "      <td>NaN</td>\n",
              "      <td>NaN</td>\n",
              "      <td>...</td>\n",
              "      <td>0.0</td>\n",
              "      <td>0.0</td>\n",
              "      <td>0.600098</td>\n",
              "      <td>0.0</td>\n",
              "      <td>0.0</td>\n",
              "      <td>0.0</td>\n",
              "      <td>0.228516</td>\n",
              "      <td>0.0</td>\n",
              "      <td>0.171387</td>\n",
              "      <td>0.0</td>\n",
              "    </tr>\n",
              "    <tr>\n",
              "      <th>1</th>\n",
              "      <td>train_Client_1</td>\n",
              "      <td>129.375000</td>\n",
              "      <td>82.0</td>\n",
              "      <td>194.0</td>\n",
              "      <td>24.000000</td>\n",
              "      <td>4789.0</td>\n",
              "      <td>112.0</td>\n",
              "      <td>64.562500</td>\n",
              "      <td>NaN</td>\n",
              "      <td>NaN</td>\n",
              "      <td>...</td>\n",
              "      <td>0.0</td>\n",
              "      <td>0.0</td>\n",
              "      <td>0.540527</td>\n",
              "      <td>0.0</td>\n",
              "      <td>0.0</td>\n",
              "      <td>0.0</td>\n",
              "      <td>0.162109</td>\n",
              "      <td>0.0</td>\n",
              "      <td>0.297363</td>\n",
              "      <td>0.0</td>\n",
              "    </tr>\n",
              "    <tr>\n",
              "      <th>2</th>\n",
              "      <td>train_Client_10</td>\n",
              "      <td>123.812500</td>\n",
              "      <td>47.0</td>\n",
              "      <td>200.0</td>\n",
              "      <td>36.906250</td>\n",
              "      <td>2229.0</td>\n",
              "      <td>153.0</td>\n",
              "      <td>76.187500</td>\n",
              "      <td>NaN</td>\n",
              "      <td>NaN</td>\n",
              "      <td>...</td>\n",
              "      <td>0.0</td>\n",
              "      <td>0.0</td>\n",
              "      <td>0.555664</td>\n",
              "      <td>0.0</td>\n",
              "      <td>0.0</td>\n",
              "      <td>0.0</td>\n",
              "      <td>0.277832</td>\n",
              "      <td>0.0</td>\n",
              "      <td>0.166626</td>\n",
              "      <td>0.0</td>\n",
              "    </tr>\n",
              "    <tr>\n",
              "      <th>3</th>\n",
              "      <td>train_Client_100</td>\n",
              "      <td>0.300049</td>\n",
              "      <td>0.0</td>\n",
              "      <td>4.0</td>\n",
              "      <td>0.978516</td>\n",
              "      <td>6.0</td>\n",
              "      <td>4.0</td>\n",
              "      <td>3.699219</td>\n",
              "      <td>NaN</td>\n",
              "      <td>NaN</td>\n",
              "      <td>...</td>\n",
              "      <td>0.0</td>\n",
              "      <td>0.0</td>\n",
              "      <td>0.950195</td>\n",
              "      <td>0.0</td>\n",
              "      <td>0.0</td>\n",
              "      <td>0.0</td>\n",
              "      <td>0.000000</td>\n",
              "      <td>0.0</td>\n",
              "      <td>0.049988</td>\n",
              "      <td>0.0</td>\n",
              "    </tr>\n",
              "    <tr>\n",
              "      <th>4</th>\n",
              "      <td>train_Client_1000</td>\n",
              "      <td>173.125000</td>\n",
              "      <td>62.0</td>\n",
              "      <td>200.0</td>\n",
              "      <td>43.343750</td>\n",
              "      <td>2424.0</td>\n",
              "      <td>138.0</td>\n",
              "      <td>26.859375</td>\n",
              "      <td>NaN</td>\n",
              "      <td>NaN</td>\n",
              "      <td>...</td>\n",
              "      <td>0.0</td>\n",
              "      <td>0.0</td>\n",
              "      <td>0.000000</td>\n",
              "      <td>0.0</td>\n",
              "      <td>0.0</td>\n",
              "      <td>0.0</td>\n",
              "      <td>0.142822</td>\n",
              "      <td>0.0</td>\n",
              "      <td>0.856934</td>\n",
              "      <td>0.0</td>\n",
              "    </tr>\n",
              "  </tbody>\n",
              "</table>\n",
              "<p>5 rows × 346 columns</p>\n",
              "</div>"
            ],
            "text/plain": [
              "           client_id  consommation_level_1_mean_ELEC  \\\n",
              "0     train_Client_0                       79.875000   \n",
              "1     train_Client_1                      129.375000   \n",
              "2    train_Client_10                      123.812500   \n",
              "3   train_Client_100                        0.300049   \n",
              "4  train_Client_1000                      173.125000   \n",
              "\n",
              "   consommation_level_1_min_ELEC  consommation_level_1_max_ELEC  \\\n",
              "0                           19.0                          300.0   \n",
              "1                           82.0                          194.0   \n",
              "2                           47.0                          200.0   \n",
              "3                            0.0                            4.0   \n",
              "4                           62.0                          200.0   \n",
              "\n",
              "   consommation_level_1_std_ELEC  consommation_level_1_sum_ELEC  \\\n",
              "0                      76.312500                         2796.0   \n",
              "1                      24.000000                         4789.0   \n",
              "2                      36.906250                         2229.0   \n",
              "3                       0.978516                            6.0   \n",
              "4                      43.343750                         2424.0   \n",
              "\n",
              "   consommation_level_1_range_ELEC  consommation_level_1_max_mean_diff_ELEC  \\\n",
              "0                            281.0                               220.125000   \n",
              "1                            112.0                                64.562500   \n",
              "2                            153.0                                76.187500   \n",
              "3                              4.0                                 3.699219   \n",
              "4                            138.0                                26.859375   \n",
              "\n",
              "   consommation_level_1_mean_GAZ  consommation_level_1_min_GAZ  ...  \\\n",
              "0                            NaN                           NaN  ...   \n",
              "1                            NaN                           NaN  ...   \n",
              "2                            NaN                           NaN  ...   \n",
              "3                            NaN                           NaN  ...   \n",
              "4                            NaN                           NaN  ...   \n",
              "\n",
              "   Code_600_ELEC  Code_65_GAZ  Rem_6_ELEC  Rem_6_GAZ  Rem_7_ELEC  Rem_7_GAZ  \\\n",
              "0            0.0          0.0    0.600098        0.0         0.0        0.0   \n",
              "1            0.0          0.0    0.540527        0.0         0.0        0.0   \n",
              "2            0.0          0.0    0.555664        0.0         0.0        0.0   \n",
              "3            0.0          0.0    0.950195        0.0         0.0        0.0   \n",
              "4            0.0          0.0    0.000000        0.0         0.0        0.0   \n",
              "\n",
              "   Rem_8_ELEC  Rem_8_GAZ  Rem_9_ELEC  Rem_9_GAZ  \n",
              "0    0.228516        0.0    0.171387        0.0  \n",
              "1    0.162109        0.0    0.297363        0.0  \n",
              "2    0.277832        0.0    0.166626        0.0  \n",
              "3    0.000000        0.0    0.049988        0.0  \n",
              "4    0.142822        0.0    0.856934        0.0  \n",
              "\n",
              "[5 rows x 346 columns]"
            ]
          },
          "execution_count": 47,
          "metadata": {},
          "output_type": "execute_result"
        }
      ],
      "source": [
        "final.head()"
      ]
    },
    {
      "cell_type": "markdown",
      "metadata": {
        "id": "PtUZYMATOCqD"
      },
      "source": [
        "### Split Train and Test"
      ]
    },
    {
      "cell_type": "code",
      "execution_count": null,
      "metadata": {
        "ExecuteTime": {
          "end_time": "2022-12-09T15:46:01.123612Z",
          "start_time": "2022-12-09T15:46:00.828984Z"
        },
        "id": "1IJ0nyyZOCqD"
      },
      "outputs": [],
      "source": [
        "train_invoice_agg = final[final['client_id'].str.contains('train')].reset_index(drop=True)"
      ]
    },
    {
      "cell_type": "code",
      "execution_count": null,
      "metadata": {
        "ExecuteTime": {
          "end_time": "2022-12-09T15:46:01.127094Z",
          "start_time": "2022-12-09T15:46:01.124723Z"
        },
        "id": "TX-JaccLOCqE",
        "outputId": "d924c884-a226-442a-e347-3a3377a55f12"
      },
      "outputs": [
        {
          "data": {
            "text/plain": [
              "(135488, 346)"
            ]
          },
          "execution_count": 49,
          "metadata": {},
          "output_type": "execute_result"
        }
      ],
      "source": [
        "train_invoice_agg.shape"
      ]
    },
    {
      "cell_type": "code",
      "execution_count": null,
      "metadata": {
        "ExecuteTime": {
          "end_time": "2022-12-09T15:46:01.269912Z",
          "start_time": "2022-12-09T15:46:01.128348Z"
        },
        "id": "rX--2S32OCqE"
      },
      "outputs": [],
      "source": [
        "test_invoice_agg = final[final['client_id'].str.contains('test')].reset_index(drop=True)"
      ]
    },
    {
      "cell_type": "code",
      "execution_count": null,
      "metadata": {
        "ExecuteTime": {
          "end_time": "2022-12-09T15:46:01.274064Z",
          "start_time": "2022-12-09T15:46:01.271328Z"
        },
        "id": "JKGLRLpiOCqE",
        "outputId": "af4cee67-a910-4ce1-9932-2fcdfd569c7b"
      },
      "outputs": [
        {
          "data": {
            "text/plain": [
              "(58069, 346)"
            ]
          },
          "execution_count": 51,
          "metadata": {},
          "output_type": "execute_result"
        }
      ],
      "source": [
        "test_invoice_agg.shape"
      ]
    },
    {
      "cell_type": "markdown",
      "metadata": {
        "id": "DGFCwoevOCqE"
      },
      "source": [
        "# Merge Invoice and Client"
      ]
    },
    {
      "cell_type": "code",
      "execution_count": null,
      "metadata": {
        "ExecuteTime": {
          "end_time": "2022-12-09T16:29:33.943904Z",
          "start_time": "2022-12-09T16:29:33.940807Z"
        },
        "id": "5f9iGt2EOCqF"
      },
      "outputs": [],
      "source": [
        "def merge_client_invoice(client,invoice_agg):\n",
        "    df = client.merge(invoice_agg,how='inner',on='client_id')\n",
        "\n",
        "    df['date_range_ELEC'] = df['date_range_ELEC'].astype('float64')\n",
        "    df['date_range_GAZ'] = df['date_range_GAZ'].astype('float64')\n",
        "\n",
        "    df['first_invoice_gap_ELEC']  = (df['first_date_ELEC']-df['creation_date']).dt.days\n",
        "    df['last_invoice_gap_ELEC']  = (df['last_date_ELEC']-df['creation_date']).dt.days\n",
        "    df['first_invoice_gap_GAZ']  = (df['first_date_GAZ']-df['creation_date']).dt.days\n",
        "    df['last_invoice_gap_GAZ']  = (df['last_date_GAZ']-df['creation_date']).dt.days\n",
        "    df.drop(columns = ['client_id','first_date_ELEC','last_date_ELEC','first_date_GAZ','last_date_GAZ','creation_date'],inplace=True)\n",
        "    print(df.shape)\n",
        "    return df"
      ]
    },
    {
      "cell_type": "code",
      "execution_count": null,
      "metadata": {
        "ExecuteTime": {
          "end_time": "2022-12-09T16:29:35.727555Z",
          "start_time": "2022-12-09T16:29:34.140686Z"
        },
        "id": "4DMms266OCqF",
        "outputId": "d69d7ae2-00fe-4bb5-ab13-98ce5586e6ee"
      },
      "outputs": [
        {
          "name": "stdout",
          "output_type": "stream",
          "text": [
            "(58069, 382)\n"
          ]
        }
      ],
      "source": [
        "test_df = merge_client_invoice(client_test,test_invoice_agg)"
      ]
    },
    {
      "cell_type": "code",
      "execution_count": null,
      "metadata": {
        "ExecuteTime": {
          "end_time": "2022-12-09T16:29:35.730419Z",
          "start_time": "2022-12-09T16:29:35.729042Z"
        },
        "id": "-jmiTIGBOCqF"
      },
      "outputs": [],
      "source": [
        "#test_df.to_csv('./data/test_df_p.csv',index=False)"
      ]
    },
    {
      "cell_type": "code",
      "execution_count": null,
      "metadata": {
        "ExecuteTime": {
          "end_time": "2022-12-09T16:29:39.643257Z",
          "start_time": "2022-12-09T16:29:35.732096Z"
        },
        "id": "zLktquPwOCqF",
        "outputId": "ee167e0f-0424-4563-a3e1-49de084d9ad0"
      },
      "outputs": [
        {
          "name": "stdout",
          "output_type": "stream",
          "text": [
            "(135488, 383)\n"
          ]
        }
      ],
      "source": [
        "train_df = merge_client_invoice(client_train,train_invoice_agg)"
      ]
    },
    {
      "cell_type": "code",
      "execution_count": null,
      "metadata": {
        "ExecuteTime": {
          "end_time": "2022-12-09T16:29:39.646088Z",
          "start_time": "2022-12-09T16:29:39.644774Z"
        },
        "id": "Ok8TtO_ZOCqF"
      },
      "outputs": [],
      "source": [
        "#train_df.to_csv('./data/train_df_p.csv',index=False)"
      ]
    },
    {
      "cell_type": "code",
      "execution_count": null,
      "metadata": {
        "ExecuteTime": {
          "end_time": "2022-12-09T16:29:39.665117Z",
          "start_time": "2022-12-09T16:29:39.647249Z"
        },
        "scrolled": false,
        "id": "nI83omsZOCqG",
        "outputId": "7776139b-0492-417c-ddd3-362acbfd0560"
      },
      "outputs": [
        {
          "data": {
            "text/html": [
              "<div>\n",
              "<style scoped>\n",
              "    .dataframe tbody tr th:only-of-type {\n",
              "        vertical-align: middle;\n",
              "    }\n",
              "\n",
              "    .dataframe tbody tr th {\n",
              "        vertical-align: top;\n",
              "    }\n",
              "\n",
              "    .dataframe thead th {\n",
              "        text-align: right;\n",
              "    }\n",
              "</style>\n",
              "<table border=\"1\" class=\"dataframe\">\n",
              "  <thead>\n",
              "    <tr style=\"text-align: right;\">\n",
              "      <th></th>\n",
              "      <th>region_group</th>\n",
              "      <th>creation_day</th>\n",
              "      <th>creation_month</th>\n",
              "      <th>creation_year</th>\n",
              "      <th>duration</th>\n",
              "      <th>target</th>\n",
              "      <th>disrict_60</th>\n",
              "      <th>disrict_62</th>\n",
              "      <th>disrict_63</th>\n",
              "      <th>disrict_69</th>\n",
              "      <th>...</th>\n",
              "      <th>Rem_7_ELEC</th>\n",
              "      <th>Rem_7_GAZ</th>\n",
              "      <th>Rem_8_ELEC</th>\n",
              "      <th>Rem_8_GAZ</th>\n",
              "      <th>Rem_9_ELEC</th>\n",
              "      <th>Rem_9_GAZ</th>\n",
              "      <th>first_invoice_gap_ELEC</th>\n",
              "      <th>last_invoice_gap_ELEC</th>\n",
              "      <th>first_invoice_gap_GAZ</th>\n",
              "      <th>last_invoice_gap_GAZ</th>\n",
              "    </tr>\n",
              "  </thead>\n",
              "  <tbody>\n",
              "    <tr>\n",
              "      <th>135483</th>\n",
              "      <td>3</td>\n",
              "      <td>26</td>\n",
              "      <td>7</td>\n",
              "      <td>2004</td>\n",
              "      <td>209</td>\n",
              "      <td>0.0</td>\n",
              "      <td>0.0</td>\n",
              "      <td>1.0</td>\n",
              "      <td>0.0</td>\n",
              "      <td>0.0</td>\n",
              "      <td>...</td>\n",
              "      <td>0.0</td>\n",
              "      <td>0.0</td>\n",
              "      <td>0.0</td>\n",
              "      <td>0.0</td>\n",
              "      <td>0.0</td>\n",
              "      <td>0.000000</td>\n",
              "      <td>349.0</td>\n",
              "      <td>5448.0</td>\n",
              "      <td>1310.0</td>\n",
              "      <td>5448.0</td>\n",
              "    </tr>\n",
              "    <tr>\n",
              "      <th>135484</th>\n",
              "      <td>3</td>\n",
              "      <td>25</td>\n",
              "      <td>10</td>\n",
              "      <td>2012</td>\n",
              "      <td>110</td>\n",
              "      <td>0.0</td>\n",
              "      <td>0.0</td>\n",
              "      <td>0.0</td>\n",
              "      <td>1.0</td>\n",
              "      <td>0.0</td>\n",
              "      <td>...</td>\n",
              "      <td>0.0</td>\n",
              "      <td>0.0</td>\n",
              "      <td>0.0</td>\n",
              "      <td>0.0</td>\n",
              "      <td>1.0</td>\n",
              "      <td>0.666504</td>\n",
              "      <td>120.0</td>\n",
              "      <td>2427.0</td>\n",
              "      <td>120.0</td>\n",
              "      <td>2427.0</td>\n",
              "    </tr>\n",
              "    <tr>\n",
              "      <th>135485</th>\n",
              "      <td>3</td>\n",
              "      <td>22</td>\n",
              "      <td>11</td>\n",
              "      <td>2011</td>\n",
              "      <td>121</td>\n",
              "      <td>0.0</td>\n",
              "      <td>0.0</td>\n",
              "      <td>0.0</td>\n",
              "      <td>1.0</td>\n",
              "      <td>0.0</td>\n",
              "      <td>...</td>\n",
              "      <td>0.0</td>\n",
              "      <td>0.0</td>\n",
              "      <td>0.0</td>\n",
              "      <td>0.0</td>\n",
              "      <td>1.0</td>\n",
              "      <td>1.000000</td>\n",
              "      <td>85.0</td>\n",
              "      <td>2906.0</td>\n",
              "      <td>85.0</td>\n",
              "      <td>1807.0</td>\n",
              "    </tr>\n",
              "    <tr>\n",
              "      <th>135486</th>\n",
              "      <td>2</td>\n",
              "      <td>22</td>\n",
              "      <td>12</td>\n",
              "      <td>1993</td>\n",
              "      <td>336</td>\n",
              "      <td>0.0</td>\n",
              "      <td>1.0</td>\n",
              "      <td>0.0</td>\n",
              "      <td>0.0</td>\n",
              "      <td>0.0</td>\n",
              "      <td>...</td>\n",
              "      <td>0.0</td>\n",
              "      <td>0.0</td>\n",
              "      <td>0.0</td>\n",
              "      <td>0.0</td>\n",
              "      <td>0.5</td>\n",
              "      <td>0.000000</td>\n",
              "      <td>4258.0</td>\n",
              "      <td>4380.0</td>\n",
              "      <td>NaN</td>\n",
              "      <td>NaN</td>\n",
              "    </tr>\n",
              "    <tr>\n",
              "      <th>135487</th>\n",
              "      <td>2</td>\n",
              "      <td>18</td>\n",
              "      <td>2</td>\n",
              "      <td>1986</td>\n",
              "      <td>430</td>\n",
              "      <td>0.0</td>\n",
              "      <td>1.0</td>\n",
              "      <td>0.0</td>\n",
              "      <td>0.0</td>\n",
              "      <td>0.0</td>\n",
              "      <td>...</td>\n",
              "      <td>0.0</td>\n",
              "      <td>0.0</td>\n",
              "      <td>0.0</td>\n",
              "      <td>0.0</td>\n",
              "      <td>0.0</td>\n",
              "      <td>0.000000</td>\n",
              "      <td>3628.0</td>\n",
              "      <td>3872.0</td>\n",
              "      <td>NaN</td>\n",
              "      <td>NaN</td>\n",
              "    </tr>\n",
              "  </tbody>\n",
              "</table>\n",
              "<p>5 rows × 383 columns</p>\n",
              "</div>"
            ],
            "text/plain": [
              "        region_group  creation_day  creation_month  creation_year  duration  \\\n",
              "135483             3            26               7           2004       209   \n",
              "135484             3            25              10           2012       110   \n",
              "135485             3            22              11           2011       121   \n",
              "135486             2            22              12           1993       336   \n",
              "135487             2            18               2           1986       430   \n",
              "\n",
              "        target  disrict_60  disrict_62  disrict_63  disrict_69  ...  \\\n",
              "135483     0.0         0.0         1.0         0.0         0.0  ...   \n",
              "135484     0.0         0.0         0.0         1.0         0.0  ...   \n",
              "135485     0.0         0.0         0.0         1.0         0.0  ...   \n",
              "135486     0.0         1.0         0.0         0.0         0.0  ...   \n",
              "135487     0.0         1.0         0.0         0.0         0.0  ...   \n",
              "\n",
              "        Rem_7_ELEC  Rem_7_GAZ  Rem_8_ELEC  Rem_8_GAZ  Rem_9_ELEC  Rem_9_GAZ  \\\n",
              "135483         0.0        0.0         0.0        0.0         0.0   0.000000   \n",
              "135484         0.0        0.0         0.0        0.0         1.0   0.666504   \n",
              "135485         0.0        0.0         0.0        0.0         1.0   1.000000   \n",
              "135486         0.0        0.0         0.0        0.0         0.5   0.000000   \n",
              "135487         0.0        0.0         0.0        0.0         0.0   0.000000   \n",
              "\n",
              "        first_invoice_gap_ELEC  last_invoice_gap_ELEC  first_invoice_gap_GAZ  \\\n",
              "135483                   349.0                 5448.0                 1310.0   \n",
              "135484                   120.0                 2427.0                  120.0   \n",
              "135485                    85.0                 2906.0                   85.0   \n",
              "135486                  4258.0                 4380.0                    NaN   \n",
              "135487                  3628.0                 3872.0                    NaN   \n",
              "\n",
              "        last_invoice_gap_GAZ  \n",
              "135483                5448.0  \n",
              "135484                2427.0  \n",
              "135485                1807.0  \n",
              "135486                   NaN  \n",
              "135487                   NaN  \n",
              "\n",
              "[5 rows x 383 columns]"
            ]
          },
          "execution_count": 92,
          "metadata": {},
          "output_type": "execute_result"
        }
      ],
      "source": [
        "train_df.tail()"
      ]
    },
    {
      "cell_type": "markdown",
      "metadata": {
        "id": "BbWASOMaOCqG"
      },
      "source": [
        "# Train Baseline Models"
      ]
    },
    {
      "cell_type": "code",
      "execution_count": null,
      "metadata": {
        "ExecuteTime": {
          "end_time": "2022-12-09T16:29:39.910791Z",
          "start_time": "2022-12-09T16:29:39.666529Z"
        },
        "id": "H5kvnFtHOCqG"
      },
      "outputs": [],
      "source": [
        "train_df = train_df.fillna(0)\n",
        "test_df = test_df.fillna(0)"
      ]
    },
    {
      "cell_type": "code",
      "execution_count": null,
      "metadata": {
        "ExecuteTime": {
          "end_time": "2022-12-09T16:29:40.122340Z",
          "start_time": "2022-12-09T16:29:39.912756Z"
        },
        "id": "OoTi50HROCqG"
      },
      "outputs": [],
      "source": [
        "target=train_df['target']\n",
        "train_df.drop('target',axis=1,inplace=True)"
      ]
    },
    {
      "cell_type": "code",
      "execution_count": null,
      "metadata": {
        "ExecuteTime": {
          "end_time": "2022-12-09T18:03:13.671601Z",
          "start_time": "2022-12-09T18:03:13.667801Z"
        },
        "id": "QEBptbGVOCqH"
      },
      "outputs": [],
      "source": [
        "model_dict = {\n",
        "                  'NB': (GaussianNB(),\n",
        "                         {'var_smoothing': [0.001,0.01,0.1,1]}),\n",
        "                         #{'var_smoothing': [0.001]}),\n",
        "\n",
        "                  'CART': (DecisionTreeClassifier(),\n",
        "                           {'max_depth': [5,10,100]}),\n",
        "                           #{'max_depth': [10]}),\n",
        "\n",
        "                  'KNN': (KNeighborsClassifier(),\n",
        "                          {'n_neighbors': [10,50,100]}),\n",
        "                          #{'n_neighbors': [10]}),\n",
        "\n",
        "                  'LR': (LogisticRegression(),\n",
        "                         {'C': [0.0001,0.001,0.01,0.1,1,10,100]}),\n",
        "\n",
        "                  'RF': (RandomForestClassifier(),\n",
        "                         {'n_estimators': [50,100,200,300]})\n",
        "                         #{'n_estimators': [50]})\n",
        "             }"
      ]
    },
    {
      "cell_type": "code",
      "execution_count": null,
      "metadata": {
        "ExecuteTime": {
          "end_time": "2022-12-09T18:04:38.924393Z",
          "start_time": "2022-12-09T18:04:38.921496Z"
        },
        "id": "_ixfuzzfOCqH"
      },
      "outputs": [],
      "source": [
        "results_df = pd.DataFrame(columns=['ROC_AUC'],index=list(model_dict.keys()))\n",
        "results_df.index.name = 'Model'"
      ]
    },
    {
      "cell_type": "code",
      "execution_count": null,
      "metadata": {
        "ExecuteTime": {
          "end_time": "2022-12-09T18:58:34.608399Z",
          "start_time": "2022-12-09T18:04:39.128668Z"
        },
        "scrolled": false,
        "id": "1iiQqKa0OCqH",
        "outputId": "065b7ac1-bfa4-4fb5-ff44-f8acbe216c86"
      },
      "outputs": [
        {
          "name": "stdout",
          "output_type": "stream",
          "text": [
            "Model Name： NB\n",
            "Best Parameter: {'var_smoothing': 0.01}\n",
            "Best CV： 0.678\n",
            "finished after 17.43 seconds\n",
            " \n",
            "Model Name： CART\n",
            "Best Parameter: {'max_depth': 5}\n",
            "Best CV： 0.851\n",
            "finished after 196.03 seconds\n",
            " \n",
            "Model Name： KNN\n",
            "Best Parameter: {'n_neighbors': 100}\n",
            "Best CV： 0.762\n",
            "finished after 718.46 seconds\n",
            " \n",
            "Model Name： LR\n",
            "Best Parameter: {'C': 0.0001}\n",
            "Best CV： 0.500\n",
            "finished after 36.72 seconds\n",
            " \n",
            "Model Name： RF\n",
            "Best Parameter: {'n_estimators': 300}\n",
            "Best CV： 0.879\n",
            "finished after 2266.83 seconds\n",
            " \n"
          ]
        }
      ],
      "source": [
        "for model_name, model_config in model_dict.items():\n",
        "    print('Model Name：', model_name)\n",
        "    model = model_config[0]\n",
        "    parameters = model_config[1]\n",
        "\n",
        "    start_time = time.time()\n",
        "    stkfold = StratifiedKFold(n_splits=5, shuffle=True, random_state=43)\n",
        "    clf = GridSearchCV(model, parameters, cv=stkfold, scoring='roc_auc')\n",
        "    clf.fit(train_df,target)\n",
        "\n",
        "    print('Best Parameter:', clf.best_params_)\n",
        "    print('Best CV： {:.3f}'.format(clf.best_score_))\n",
        "\n",
        "    results_df.loc[model_name] = [clf.best_score_]\n",
        "\n",
        "    print(f\"finished after {time.time() - start_time :.2f} seconds\")\n",
        "    print(' ')\n",
        ""
      ]
    },
    {
      "cell_type": "code",
      "execution_count": null,
      "metadata": {
        "ExecuteTime": {
          "end_time": "2022-12-09T18:58:34.612028Z",
          "start_time": "2022-12-09T18:58:34.609785Z"
        },
        "id": "72yW-G-wOCqI"
      },
      "outputs": [],
      "source": [
        "results_df = results_df.reset_index()"
      ]
    },
    {
      "cell_type": "code",
      "execution_count": null,
      "metadata": {
        "ExecuteTime": {
          "end_time": "2022-12-09T19:01:22.437621Z",
          "start_time": "2022-12-09T19:01:22.184725Z"
        },
        "id": "jpGM7BO4OCqI",
        "outputId": "13b34742-d68a-4239-cc36-b10982ea56e4"
      },
      "outputs": [
        {
          "data": {
            "image/png": "[encoded data removed]",
            "text/plain": [
              "<Figure size 720x576 with 1 Axes>"
            ]
          },
          "metadata": {
            "needs_background": "light"
          },
          "output_type": "display_data"
        }
      ],
      "source": [
        "g = sns.catplot(x='Model',y='ROC_AUC',kind='bar',data=results_df,height = 8, aspect = 1.25)\n",
        "g.ax.set_title(f'Baseline Model Performance',fontsize=20)\n",
        "\n",
        "for p in g.ax.patches:\n",
        "    txt = str(p.get_height().round(3))\n",
        "    txt_x = p.get_x()\n",
        "    txt_y = p.get_height()\n",
        "    g.ax.text(txt_x,txt_y,txt, size=13)\n",
        "\n",
        "figure = g.fig\n",
        "figure.savefig(f'./chart/Baseline Model Performance.jpg',format='jpeg',\n",
        "               dpi=100,\n",
        "               bbox_inches='tight')"
      ]
    }
  ],
  "metadata": {
    "kernelspec": {
      "display_name": "Python 3 (ipykernel)",
      "language": "python",
      "name": "python3"
    },
    "language_info": {
      "codemirror_mode": {
        "name": "ipython",
        "version": 3
      },
      "file_extension": ".py",
      "mimetype": "text/x-python",
      "name": "python",
      "nbconvert_exporter": "python",
      "pygments_lexer": "ipython3",
      "version": "3.9.7"
    },
    "toc": {
      "base_numbering": 1,
      "nav_menu": {},
      "number_sections": true,
      "sideBar": true,
      "skip_h1_title": false,
      "title_cell": "Table of Contents",
      "title_sidebar": "Contents",
      "toc_cell": false,
      "toc_position": {},
      "toc_section_display": true,
      "toc_window_display": false
    },
    "varInspector": {
      "cols": {
        "lenName": 16,
        "lenType": 16,
        "lenVar": 40
      },
      "kernels_config": {
        "python": {
          "delete_cmd_postfix": "",
          "delete_cmd_prefix": "del ",
          "library": "var_list.py",
          "varRefreshCmd": "print(var_dic_list())"
        },
        "r": {
          "delete_cmd_postfix": ") ",
          "delete_cmd_prefix": "rm(",
          "library": "var_list.r",
          "varRefreshCmd": "cat(var_dic_list()) "
        }
      },
      "types_to_exclude": [
        "module",
        "function",
        "builtin_function_or_method",
        "instance",
        "_Feature"
      ],
      "window_display": false
    },
    "colab": {
      "provenance": []
    }
  },
  "nbformat": 4,
  "nbformat_minor": 0
}